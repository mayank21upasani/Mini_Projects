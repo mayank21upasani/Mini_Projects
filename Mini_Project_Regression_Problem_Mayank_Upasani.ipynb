{
 "cells": [
  {
   "cell_type": "code",
   "execution_count": 80,
   "id": "eab346ac",
   "metadata": {},
   "outputs": [],
   "source": [
    "# Importing libraries\n",
    "import pandas as pd\n",
    "import numpy as np\n",
    "import matplotlib.pyplot as plt\n",
    "from numpy import mean\n",
    "from numpy import std\n",
    "import seaborn as sns\n",
    "import warnings\n",
    "warnings.filterwarnings(\"ignore\")\n",
    "from sklearn.preprocessing import LabelEncoder\n",
    "from sklearn import preprocessing\n",
    "from sklearn.preprocessing import MinMaxScaler, StandardScaler\n",
    "from sklearn.model_selection import train_test_split\n",
    "from tabulate import tabulate\n",
    "\n",
    "from sklearn.model_selection import train_test_split\n",
    "from sklearn.model_selection import RepeatedStratifiedKFold\n",
    "from sklearn.model_selection import StratifiedKFold\n",
    "from sklearn.model_selection import KFold\n",
    "from sklearn.model_selection import GridSearchCV\n",
    "\n",
    "from sklearn.naive_bayes import GaussianNB \n",
    "from sklearn.linear_model import LinearRegression\n",
    "from sklearn.ensemble import RandomForestRegressor\n",
    "from sklearn.ensemble import AdaBoostRegressor\n",
    "from sklearn.neighbors import KNeighborsRegressor\n",
    "from sklearn.tree import DecisionTreeRegressor\n",
    "from sklearn.svm import SVR\n",
    "from sklearn.ensemble import StackingRegressor\n",
    "\n",
    "from sklearn.model_selection import cross_val_score\n",
    "from sklearn.model_selection import cross_validate\n",
    "from sklearn.metrics import accuracy_score"
   ]
  },
  {
   "cell_type": "markdown",
   "id": "c34c881e",
   "metadata": {},
   "source": [
    "#### Loading the Data"
   ]
  },
  {
   "cell_type": "code",
   "execution_count": 3,
   "id": "54f6d894",
   "metadata": {},
   "outputs": [],
   "source": [
    "#Importing dataset \n",
    "\n",
    "df=pd.read_csv('DS3_C6_S1_Regression_StoreSales_Data_Project.csv')"
   ]
  },
  {
   "cell_type": "code",
   "execution_count": 4,
   "id": "f1db78aa",
   "metadata": {},
   "outputs": [
    {
     "data": {
      "text/html": [
       "<div>\n",
       "<style scoped>\n",
       "    .dataframe tbody tr th:only-of-type {\n",
       "        vertical-align: middle;\n",
       "    }\n",
       "\n",
       "    .dataframe tbody tr th {\n",
       "        vertical-align: top;\n",
       "    }\n",
       "\n",
       "    .dataframe thead th {\n",
       "        text-align: right;\n",
       "    }\n",
       "</style>\n",
       "<table border=\"1\" class=\"dataframe\">\n",
       "  <thead>\n",
       "    <tr style=\"text-align: right;\">\n",
       "      <th></th>\n",
       "      <th>Item_Identifier</th>\n",
       "      <th>Item_Weight</th>\n",
       "      <th>Item_Fat_Content</th>\n",
       "      <th>Item_Visibility</th>\n",
       "      <th>Item_Type</th>\n",
       "      <th>Item_MRP</th>\n",
       "      <th>Outlet_Identifier</th>\n",
       "      <th>Outlet_Establishment_Year</th>\n",
       "      <th>Outlet_Size</th>\n",
       "      <th>Outlet_Location_Type</th>\n",
       "      <th>Outlet_Type</th>\n",
       "      <th>Item_Outlet_Sales</th>\n",
       "    </tr>\n",
       "  </thead>\n",
       "  <tbody>\n",
       "    <tr>\n",
       "      <th>0</th>\n",
       "      <td>FDA15</td>\n",
       "      <td>9.30</td>\n",
       "      <td>Low Fat</td>\n",
       "      <td>0.016047</td>\n",
       "      <td>Dairy</td>\n",
       "      <td>249.8092</td>\n",
       "      <td>OUT049</td>\n",
       "      <td>1999</td>\n",
       "      <td>Medium</td>\n",
       "      <td>Tier 1</td>\n",
       "      <td>Supermarket Type1</td>\n",
       "      <td>3735.1380</td>\n",
       "    </tr>\n",
       "    <tr>\n",
       "      <th>1</th>\n",
       "      <td>DRC01</td>\n",
       "      <td>5.92</td>\n",
       "      <td>Regular</td>\n",
       "      <td>0.019278</td>\n",
       "      <td>Soft Drinks</td>\n",
       "      <td>48.2692</td>\n",
       "      <td>OUT018</td>\n",
       "      <td>2009</td>\n",
       "      <td>Medium</td>\n",
       "      <td>Tier 3</td>\n",
       "      <td>Supermarket Type2</td>\n",
       "      <td>443.4228</td>\n",
       "    </tr>\n",
       "    <tr>\n",
       "      <th>2</th>\n",
       "      <td>FDN15</td>\n",
       "      <td>17.50</td>\n",
       "      <td>Low Fat</td>\n",
       "      <td>0.016760</td>\n",
       "      <td>Meat</td>\n",
       "      <td>141.6180</td>\n",
       "      <td>OUT049</td>\n",
       "      <td>1999</td>\n",
       "      <td>Medium</td>\n",
       "      <td>Tier 1</td>\n",
       "      <td>Supermarket Type1</td>\n",
       "      <td>2097.2700</td>\n",
       "    </tr>\n",
       "    <tr>\n",
       "      <th>3</th>\n",
       "      <td>FDX07</td>\n",
       "      <td>19.20</td>\n",
       "      <td>Regular</td>\n",
       "      <td>0.074402</td>\n",
       "      <td>Fruits and Vegetables</td>\n",
       "      <td>182.0950</td>\n",
       "      <td>OUT010</td>\n",
       "      <td>1998</td>\n",
       "      <td>Medium</td>\n",
       "      <td>Tier 3</td>\n",
       "      <td>Grocery Store</td>\n",
       "      <td>732.3800</td>\n",
       "    </tr>\n",
       "    <tr>\n",
       "      <th>4</th>\n",
       "      <td>NCD19</td>\n",
       "      <td>8.93</td>\n",
       "      <td>Low Fat</td>\n",
       "      <td>0.064299</td>\n",
       "      <td>Household</td>\n",
       "      <td>53.8614</td>\n",
       "      <td>OUT013</td>\n",
       "      <td>1987</td>\n",
       "      <td>High</td>\n",
       "      <td>Tier 3</td>\n",
       "      <td>Supermarket Type1</td>\n",
       "      <td>994.7052</td>\n",
       "    </tr>\n",
       "  </tbody>\n",
       "</table>\n",
       "</div>"
      ],
      "text/plain": [
       "  Item_Identifier  Item_Weight Item_Fat_Content  Item_Visibility  \\\n",
       "0           FDA15         9.30          Low Fat         0.016047   \n",
       "1           DRC01         5.92          Regular         0.019278   \n",
       "2           FDN15        17.50          Low Fat         0.016760   \n",
       "3           FDX07        19.20          Regular         0.074402   \n",
       "4           NCD19         8.93          Low Fat         0.064299   \n",
       "\n",
       "               Item_Type  Item_MRP Outlet_Identifier  \\\n",
       "0                  Dairy  249.8092            OUT049   \n",
       "1            Soft Drinks   48.2692            OUT018   \n",
       "2                   Meat  141.6180            OUT049   \n",
       "3  Fruits and Vegetables  182.0950            OUT010   \n",
       "4              Household   53.8614            OUT013   \n",
       "\n",
       "   Outlet_Establishment_Year Outlet_Size Outlet_Location_Type  \\\n",
       "0                       1999      Medium               Tier 1   \n",
       "1                       2009      Medium               Tier 3   \n",
       "2                       1999      Medium               Tier 1   \n",
       "3                       1998      Medium               Tier 3   \n",
       "4                       1987        High               Tier 3   \n",
       "\n",
       "         Outlet_Type  Item_Outlet_Sales  \n",
       "0  Supermarket Type1          3735.1380  \n",
       "1  Supermarket Type2           443.4228  \n",
       "2  Supermarket Type1          2097.2700  \n",
       "3      Grocery Store           732.3800  \n",
       "4  Supermarket Type1           994.7052  "
      ]
     },
     "execution_count": 4,
     "metadata": {},
     "output_type": "execute_result"
    }
   ],
   "source": [
    "df.head()"
   ]
  },
  {
   "cell_type": "markdown",
   "id": "14c047bc",
   "metadata": {},
   "source": [
    "#### Data Exploration"
   ]
  },
  {
   "cell_type": "code",
   "execution_count": 5,
   "id": "53d4102c",
   "metadata": {},
   "outputs": [
    {
     "name": "stdout",
     "output_type": "stream",
     "text": [
      "Item_Identifier               object\n",
      "Item_Weight                  float64\n",
      "Item_Fat_Content              object\n",
      "Item_Visibility              float64\n",
      "Item_Type                     object\n",
      "Item_MRP                     float64\n",
      "Outlet_Identifier             object\n",
      "Outlet_Establishment_Year      int64\n",
      "Outlet_Size                   object\n",
      "Outlet_Location_Type          object\n",
      "Outlet_Type                   object\n",
      "Item_Outlet_Sales            float64\n",
      "dtype: object\n"
     ]
    }
   ],
   "source": [
    "# Datatypes of all columns\n",
    "print(df.dtypes)"
   ]
  },
  {
   "cell_type": "code",
   "execution_count": 6,
   "id": "f0e226ae",
   "metadata": {},
   "outputs": [
    {
     "data": {
      "text/plain": [
       "(14204, 12)"
      ]
     },
     "execution_count": 6,
     "metadata": {},
     "output_type": "execute_result"
    }
   ],
   "source": [
    "# structure of dataset\n",
    "df.shape"
   ]
  },
  {
   "cell_type": "code",
   "execution_count": 7,
   "id": "d2e161fe",
   "metadata": {},
   "outputs": [
    {
     "data": {
      "text/html": [
       "<div>\n",
       "<style scoped>\n",
       "    .dataframe tbody tr th:only-of-type {\n",
       "        vertical-align: middle;\n",
       "    }\n",
       "\n",
       "    .dataframe tbody tr th {\n",
       "        vertical-align: top;\n",
       "    }\n",
       "\n",
       "    .dataframe thead th {\n",
       "        text-align: right;\n",
       "    }\n",
       "</style>\n",
       "<table border=\"1\" class=\"dataframe\">\n",
       "  <thead>\n",
       "    <tr style=\"text-align: right;\">\n",
       "      <th></th>\n",
       "      <th>Item_Weight</th>\n",
       "      <th>Item_Visibility</th>\n",
       "      <th>Item_MRP</th>\n",
       "      <th>Outlet_Establishment_Year</th>\n",
       "      <th>Item_Outlet_Sales</th>\n",
       "    </tr>\n",
       "  </thead>\n",
       "  <tbody>\n",
       "    <tr>\n",
       "      <th>count</th>\n",
       "      <td>14204.000000</td>\n",
       "      <td>14204.000000</td>\n",
       "      <td>14204.000000</td>\n",
       "      <td>14204.000000</td>\n",
       "      <td>8523.000000</td>\n",
       "    </tr>\n",
       "    <tr>\n",
       "      <th>mean</th>\n",
       "      <td>12.793380</td>\n",
       "      <td>0.070301</td>\n",
       "      <td>141.004977</td>\n",
       "      <td>1997.830681</td>\n",
       "      <td>2181.288914</td>\n",
       "    </tr>\n",
       "    <tr>\n",
       "      <th>std</th>\n",
       "      <td>4.651716</td>\n",
       "      <td>0.048621</td>\n",
       "      <td>62.086938</td>\n",
       "      <td>8.371664</td>\n",
       "      <td>1706.499616</td>\n",
       "    </tr>\n",
       "    <tr>\n",
       "      <th>min</th>\n",
       "      <td>4.555000</td>\n",
       "      <td>0.003575</td>\n",
       "      <td>31.290000</td>\n",
       "      <td>1985.000000</td>\n",
       "      <td>33.290000</td>\n",
       "    </tr>\n",
       "    <tr>\n",
       "      <th>25%</th>\n",
       "      <td>8.710000</td>\n",
       "      <td>0.033143</td>\n",
       "      <td>94.012000</td>\n",
       "      <td>1987.000000</td>\n",
       "      <td>834.247400</td>\n",
       "    </tr>\n",
       "    <tr>\n",
       "      <th>50%</th>\n",
       "      <td>12.600000</td>\n",
       "      <td>0.062347</td>\n",
       "      <td>142.247000</td>\n",
       "      <td>1999.000000</td>\n",
       "      <td>1794.331000</td>\n",
       "    </tr>\n",
       "    <tr>\n",
       "      <th>75%</th>\n",
       "      <td>16.750000</td>\n",
       "      <td>0.094037</td>\n",
       "      <td>185.855600</td>\n",
       "      <td>2004.000000</td>\n",
       "      <td>3101.296400</td>\n",
       "    </tr>\n",
       "    <tr>\n",
       "      <th>max</th>\n",
       "      <td>21.350000</td>\n",
       "      <td>0.328391</td>\n",
       "      <td>266.888400</td>\n",
       "      <td>2009.000000</td>\n",
       "      <td>13086.964800</td>\n",
       "    </tr>\n",
       "  </tbody>\n",
       "</table>\n",
       "</div>"
      ],
      "text/plain": [
       "        Item_Weight  Item_Visibility      Item_MRP  Outlet_Establishment_Year  \\\n",
       "count  14204.000000     14204.000000  14204.000000               14204.000000   \n",
       "mean      12.793380         0.070301    141.004977                1997.830681   \n",
       "std        4.651716         0.048621     62.086938                   8.371664   \n",
       "min        4.555000         0.003575     31.290000                1985.000000   \n",
       "25%        8.710000         0.033143     94.012000                1987.000000   \n",
       "50%       12.600000         0.062347    142.247000                1999.000000   \n",
       "75%       16.750000         0.094037    185.855600                2004.000000   \n",
       "max       21.350000         0.328391    266.888400                2009.000000   \n",
       "\n",
       "       Item_Outlet_Sales  \n",
       "count        8523.000000  \n",
       "mean         2181.288914  \n",
       "std          1706.499616  \n",
       "min            33.290000  \n",
       "25%           834.247400  \n",
       "50%          1794.331000  \n",
       "75%          3101.296400  \n",
       "max         13086.964800  "
      ]
     },
     "execution_count": 7,
     "metadata": {},
     "output_type": "execute_result"
    }
   ],
   "source": [
    "# Summary of dataset\n",
    "df.describe()"
   ]
  },
  {
   "cell_type": "code",
   "execution_count": 8,
   "id": "00150fad",
   "metadata": {},
   "outputs": [
    {
     "data": {
      "text/plain": [
       "Item_Identifier                 0\n",
       "Item_Weight                     0\n",
       "Item_Fat_Content                0\n",
       "Item_Visibility                 0\n",
       "Item_Type                       0\n",
       "Item_MRP                        0\n",
       "Outlet_Identifier               0\n",
       "Outlet_Establishment_Year       0\n",
       "Outlet_Size                     0\n",
       "Outlet_Location_Type            0\n",
       "Outlet_Type                     0\n",
       "Item_Outlet_Sales            5681\n",
       "dtype: int64"
      ]
     },
     "execution_count": 8,
     "metadata": {},
     "output_type": "execute_result"
    }
   ],
   "source": [
    "#check the null values present or not \n",
    "df.isnull().sum()"
   ]
  },
  {
   "cell_type": "code",
   "execution_count": 11,
   "id": "0330445e",
   "metadata": {},
   "outputs": [],
   "source": [
    "df['Item_Outlet_Sales'] = df['Item_Outlet_Sales'].fillna(df['Item_Outlet_Sales'].mean())"
   ]
  },
  {
   "cell_type": "code",
   "execution_count": 12,
   "id": "5044f1c6",
   "metadata": {},
   "outputs": [
    {
     "data": {
      "text/plain": [
       "Item_Identifier              0\n",
       "Item_Weight                  0\n",
       "Item_Fat_Content             0\n",
       "Item_Visibility              0\n",
       "Item_Type                    0\n",
       "Item_MRP                     0\n",
       "Outlet_Identifier            0\n",
       "Outlet_Establishment_Year    0\n",
       "Outlet_Size                  0\n",
       "Outlet_Location_Type         0\n",
       "Outlet_Type                  0\n",
       "Item_Outlet_Sales            0\n",
       "dtype: int64"
      ]
     },
     "execution_count": 12,
     "metadata": {},
     "output_type": "execute_result"
    }
   ],
   "source": [
    "df.isnull().sum()"
   ]
  },
  {
   "cell_type": "code",
   "execution_count": 13,
   "id": "866718fe",
   "metadata": {},
   "outputs": [
    {
     "data": {
      "text/plain": [
       "(14204, 12)"
      ]
     },
     "execution_count": 13,
     "metadata": {},
     "output_type": "execute_result"
    }
   ],
   "source": [
    "df.shape"
   ]
  },
  {
   "cell_type": "code",
   "execution_count": 14,
   "id": "7a954758",
   "metadata": {},
   "outputs": [
    {
     "data": {
      "text/html": [
       "<div>\n",
       "<style scoped>\n",
       "    .dataframe tbody tr th:only-of-type {\n",
       "        vertical-align: middle;\n",
       "    }\n",
       "\n",
       "    .dataframe tbody tr th {\n",
       "        vertical-align: top;\n",
       "    }\n",
       "\n",
       "    .dataframe thead th {\n",
       "        text-align: right;\n",
       "    }\n",
       "</style>\n",
       "<table border=\"1\" class=\"dataframe\">\n",
       "  <thead>\n",
       "    <tr style=\"text-align: right;\">\n",
       "      <th></th>\n",
       "      <th>Item_Weight</th>\n",
       "      <th>Item_Visibility</th>\n",
       "      <th>Item_MRP</th>\n",
       "      <th>Outlet_Establishment_Year</th>\n",
       "      <th>Item_Outlet_Sales</th>\n",
       "    </tr>\n",
       "  </thead>\n",
       "  <tbody>\n",
       "    <tr>\n",
       "      <th>count</th>\n",
       "      <td>14204.000000</td>\n",
       "      <td>14204.000000</td>\n",
       "      <td>14204.000000</td>\n",
       "      <td>14204.000000</td>\n",
       "      <td>14204.000000</td>\n",
       "    </tr>\n",
       "    <tr>\n",
       "      <th>mean</th>\n",
       "      <td>12.793380</td>\n",
       "      <td>0.070301</td>\n",
       "      <td>141.004977</td>\n",
       "      <td>1997.830681</td>\n",
       "      <td>2181.288914</td>\n",
       "    </tr>\n",
       "    <tr>\n",
       "      <th>std</th>\n",
       "      <td>4.651716</td>\n",
       "      <td>0.048621</td>\n",
       "      <td>62.086938</td>\n",
       "      <td>8.371664</td>\n",
       "      <td>1321.864430</td>\n",
       "    </tr>\n",
       "    <tr>\n",
       "      <th>min</th>\n",
       "      <td>4.555000</td>\n",
       "      <td>0.003575</td>\n",
       "      <td>31.290000</td>\n",
       "      <td>1985.000000</td>\n",
       "      <td>33.290000</td>\n",
       "    </tr>\n",
       "    <tr>\n",
       "      <th>25%</th>\n",
       "      <td>8.710000</td>\n",
       "      <td>0.033143</td>\n",
       "      <td>94.012000</td>\n",
       "      <td>1987.000000</td>\n",
       "      <td>1468.089000</td>\n",
       "    </tr>\n",
       "    <tr>\n",
       "      <th>50%</th>\n",
       "      <td>12.600000</td>\n",
       "      <td>0.062347</td>\n",
       "      <td>142.247000</td>\n",
       "      <td>1999.000000</td>\n",
       "      <td>2181.288914</td>\n",
       "    </tr>\n",
       "    <tr>\n",
       "      <th>75%</th>\n",
       "      <td>16.750000</td>\n",
       "      <td>0.094037</td>\n",
       "      <td>185.855600</td>\n",
       "      <td>2004.000000</td>\n",
       "      <td>2181.288914</td>\n",
       "    </tr>\n",
       "    <tr>\n",
       "      <th>max</th>\n",
       "      <td>21.350000</td>\n",
       "      <td>0.328391</td>\n",
       "      <td>266.888400</td>\n",
       "      <td>2009.000000</td>\n",
       "      <td>13086.964800</td>\n",
       "    </tr>\n",
       "  </tbody>\n",
       "</table>\n",
       "</div>"
      ],
      "text/plain": [
       "        Item_Weight  Item_Visibility      Item_MRP  Outlet_Establishment_Year  \\\n",
       "count  14204.000000     14204.000000  14204.000000               14204.000000   \n",
       "mean      12.793380         0.070301    141.004977                1997.830681   \n",
       "std        4.651716         0.048621     62.086938                   8.371664   \n",
       "min        4.555000         0.003575     31.290000                1985.000000   \n",
       "25%        8.710000         0.033143     94.012000                1987.000000   \n",
       "50%       12.600000         0.062347    142.247000                1999.000000   \n",
       "75%       16.750000         0.094037    185.855600                2004.000000   \n",
       "max       21.350000         0.328391    266.888400                2009.000000   \n",
       "\n",
       "       Item_Outlet_Sales  \n",
       "count       14204.000000  \n",
       "mean         2181.288914  \n",
       "std          1321.864430  \n",
       "min            33.290000  \n",
       "25%          1468.089000  \n",
       "50%          2181.288914  \n",
       "75%          2181.288914  \n",
       "max         13086.964800  "
      ]
     },
     "execution_count": 14,
     "metadata": {},
     "output_type": "execute_result"
    }
   ],
   "source": [
    "df.describe()"
   ]
  },
  {
   "cell_type": "code",
   "execution_count": 18,
   "id": "c78dbeb7",
   "metadata": {},
   "outputs": [
    {
     "data": {
      "image/png": "[encoded data removed]",
      "text/plain": [
       "<Figure size 1440x1224 with 2 Axes>"
      ]
     },
     "metadata": {
      "needs_background": "light"
     },
     "output_type": "display_data"
    }
   ],
   "source": [
    "fig, ax = plt.subplots(2, 1, figsize = (20, 17))\n",
    "ax[0].set_title(\"Count of Item type\")                  # Set the title of the graph\n",
    "percentage = df[\"Item_Type\"].value_counts()                 # value_counts: returns the count of values in series: return series\n",
    "labels = list(df[\"Item_Type\"].value_counts().index)                            # Converting the index of value counts into list\n",
    "\n",
    "    \n",
    "sns.countplot(x = df[\"Item_Type\"], ax = ax[0])\n",
    "plt.pie(percentage,labels = labels, autopct= \"%0.2f%%\")  # autopct: to print the percentage on pie wedge. 2 decimal points used \n",
    "\n",
    "plt.show()"
   ]
  },
  {
   "cell_type": "markdown",
   "id": "6a5f7080",
   "metadata": {},
   "source": [
    "Snacks foods and fruits and vegetables have the highest rates 14% & 14.17%"
   ]
  },
  {
   "cell_type": "code",
   "execution_count": 20,
   "id": "f5e1f213",
   "metadata": {},
   "outputs": [
    {
     "data": {
      "image/png": "[encoded data removed]",
      "text/plain": [
       "<Figure size 1440x432 with 1 Axes>"
      ]
     },
     "metadata": {
      "needs_background": "light"
     },
     "output_type": "display_data"
    }
   ],
   "source": [
    "fig,ax = plt.subplots(figsize=(20,6))\n",
    "plt.title('City wise with Total cost($)')\n",
    "sns.barplot(x=df['Item_Type'],y=df['Item_Outlet_Sales'],data=df ,estimator=np.mean)\n",
    "plt.show()"
   ]
  },
  {
   "cell_type": "code",
   "execution_count": 28,
   "id": "a2222ed5",
   "metadata": {},
   "outputs": [
    {
     "data": {
      "text/plain": [
       "Index(['Item_Identifier', 'Item_Weight', 'Item_Fat_Content', 'Item_Visibility',\n",
       "       'Item_Type', 'Item_MRP', 'Outlet_Identifier',\n",
       "       'Outlet_Establishment_Year', 'Outlet_Size', 'Outlet_Location_Type',\n",
       "       'Outlet_Type', 'Item_Outlet_Sales'],\n",
       "      dtype='object')"
      ]
     },
     "execution_count": 28,
     "metadata": {},
     "output_type": "execute_result"
    }
   ],
   "source": [
    "#checking the column\n",
    "df_c=df\n",
    "columns=df_c.columns\n",
    "columns"
   ]
  },
  {
   "cell_type": "code",
   "execution_count": 31,
   "id": "7f5be507",
   "metadata": {},
   "outputs": [
    {
     "name": "stdout",
     "output_type": "stream",
     "text": [
      "Categories    Numerical\n",
      "------------  -------------------------\n",
      "              Item_Identifier\n",
      "              Item_Weight\n",
      "              Item_Fat_Content\n",
      "              Item_Visibility\n",
      "              Item_Type\n",
      "              Item_MRP\n",
      "              Outlet_Identifier\n",
      "              Outlet_Establishment_Year\n",
      "              Outlet_Size\n",
      "              Outlet_Location_Type\n",
      "              Outlet_Type\n",
      "              Item_Outlet_Sales\n"
     ]
    }
   ],
   "source": [
    "#separate the dataset into categorical as well as numerical types\n",
    "\n",
    "a=df_c.select_dtypes(exclude='object')\n",
    "b=df_c.select_dtypes(include='object')\n",
    "\n",
    "a_lst=list(a.columns)\n",
    "b_lst=list(b.columns)\n",
    "print(tabulate({'categorical':b_lst,\"continuous\":a_lst},headers=['Categories','Numerical']))"
   ]
  },
  {
   "cell_type": "code",
   "execution_count": 32,
   "id": "7fc8630d",
   "metadata": {},
   "outputs": [
    {
     "data": {
      "text/html": [
       "<div>\n",
       "<style scoped>\n",
       "    .dataframe tbody tr th:only-of-type {\n",
       "        vertical-align: middle;\n",
       "    }\n",
       "\n",
       "    .dataframe tbody tr th {\n",
       "        vertical-align: top;\n",
       "    }\n",
       "\n",
       "    .dataframe thead th {\n",
       "        text-align: right;\n",
       "    }\n",
       "</style>\n",
       "<table border=\"1\" class=\"dataframe\">\n",
       "  <thead>\n",
       "    <tr style=\"text-align: right;\">\n",
       "      <th></th>\n",
       "      <th>Item_Identifier</th>\n",
       "      <th>Item_Weight</th>\n",
       "      <th>Item_Fat_Content</th>\n",
       "      <th>Item_Visibility</th>\n",
       "      <th>Item_Type</th>\n",
       "      <th>Item_MRP</th>\n",
       "      <th>Outlet_Identifier</th>\n",
       "      <th>Outlet_Establishment_Year</th>\n",
       "      <th>Outlet_Size</th>\n",
       "      <th>Outlet_Location_Type</th>\n",
       "      <th>Outlet_Type</th>\n",
       "      <th>Item_Outlet_Sales</th>\n",
       "    </tr>\n",
       "  </thead>\n",
       "  <tbody>\n",
       "    <tr>\n",
       "      <th>0</th>\n",
       "      <td>FDA15</td>\n",
       "      <td>9.30</td>\n",
       "      <td>Low Fat</td>\n",
       "      <td>0.016047</td>\n",
       "      <td>Dairy</td>\n",
       "      <td>249.8092</td>\n",
       "      <td>OUT049</td>\n",
       "      <td>1999</td>\n",
       "      <td>Medium</td>\n",
       "      <td>Tier 1</td>\n",
       "      <td>Supermarket Type1</td>\n",
       "      <td>3735.1380</td>\n",
       "    </tr>\n",
       "    <tr>\n",
       "      <th>1</th>\n",
       "      <td>DRC01</td>\n",
       "      <td>5.92</td>\n",
       "      <td>Regular</td>\n",
       "      <td>0.019278</td>\n",
       "      <td>Soft Drinks</td>\n",
       "      <td>48.2692</td>\n",
       "      <td>OUT018</td>\n",
       "      <td>2009</td>\n",
       "      <td>Medium</td>\n",
       "      <td>Tier 3</td>\n",
       "      <td>Supermarket Type2</td>\n",
       "      <td>443.4228</td>\n",
       "    </tr>\n",
       "    <tr>\n",
       "      <th>2</th>\n",
       "      <td>FDN15</td>\n",
       "      <td>17.50</td>\n",
       "      <td>Low Fat</td>\n",
       "      <td>0.016760</td>\n",
       "      <td>Meat</td>\n",
       "      <td>141.6180</td>\n",
       "      <td>OUT049</td>\n",
       "      <td>1999</td>\n",
       "      <td>Medium</td>\n",
       "      <td>Tier 1</td>\n",
       "      <td>Supermarket Type1</td>\n",
       "      <td>2097.2700</td>\n",
       "    </tr>\n",
       "    <tr>\n",
       "      <th>3</th>\n",
       "      <td>FDX07</td>\n",
       "      <td>19.20</td>\n",
       "      <td>Regular</td>\n",
       "      <td>0.074402</td>\n",
       "      <td>Fruits and Vegetables</td>\n",
       "      <td>182.0950</td>\n",
       "      <td>OUT010</td>\n",
       "      <td>1998</td>\n",
       "      <td>Medium</td>\n",
       "      <td>Tier 3</td>\n",
       "      <td>Grocery Store</td>\n",
       "      <td>732.3800</td>\n",
       "    </tr>\n",
       "    <tr>\n",
       "      <th>4</th>\n",
       "      <td>NCD19</td>\n",
       "      <td>8.93</td>\n",
       "      <td>Low Fat</td>\n",
       "      <td>0.064299</td>\n",
       "      <td>Household</td>\n",
       "      <td>53.8614</td>\n",
       "      <td>OUT013</td>\n",
       "      <td>1987</td>\n",
       "      <td>High</td>\n",
       "      <td>Tier 3</td>\n",
       "      <td>Supermarket Type1</td>\n",
       "      <td>994.7052</td>\n",
       "    </tr>\n",
       "  </tbody>\n",
       "</table>\n",
       "</div>"
      ],
      "text/plain": [
       "  Item_Identifier  Item_Weight Item_Fat_Content  Item_Visibility  \\\n",
       "0           FDA15         9.30          Low Fat         0.016047   \n",
       "1           DRC01         5.92          Regular         0.019278   \n",
       "2           FDN15        17.50          Low Fat         0.016760   \n",
       "3           FDX07        19.20          Regular         0.074402   \n",
       "4           NCD19         8.93          Low Fat         0.064299   \n",
       "\n",
       "               Item_Type  Item_MRP Outlet_Identifier  \\\n",
       "0                  Dairy  249.8092            OUT049   \n",
       "1            Soft Drinks   48.2692            OUT018   \n",
       "2                   Meat  141.6180            OUT049   \n",
       "3  Fruits and Vegetables  182.0950            OUT010   \n",
       "4              Household   53.8614            OUT013   \n",
       "\n",
       "   Outlet_Establishment_Year Outlet_Size Outlet_Location_Type  \\\n",
       "0                       1999      Medium               Tier 1   \n",
       "1                       2009      Medium               Tier 3   \n",
       "2                       1999      Medium               Tier 1   \n",
       "3                       1998      Medium               Tier 3   \n",
       "4                       1987        High               Tier 3   \n",
       "\n",
       "         Outlet_Type  Item_Outlet_Sales  \n",
       "0  Supermarket Type1          3735.1380  \n",
       "1  Supermarket Type2           443.4228  \n",
       "2  Supermarket Type1          2097.2700  \n",
       "3      Grocery Store           732.3800  \n",
       "4  Supermarket Type1           994.7052  "
      ]
     },
     "execution_count": 32,
     "metadata": {},
     "output_type": "execute_result"
    }
   ],
   "source": [
    "purpose_encoder = preprocessing.LabelEncoder() # Using Label Encoder technique to convert categorical column into numerical type\n",
    "for i in b_lst:     \n",
    "    purpose_encoder.fit(['df[i]'])\n",
    "    print(purpose_encoder.classes_)\n",
    "    df['i'] = purpose_encoder.transform(df[i])\n",
    "\n",
    "df_c.head()"
   ]
  },
  {
   "cell_type": "code",
   "execution_count": 35,
   "id": "505641fe",
   "metadata": {},
   "outputs": [],
   "source": [
    "# Defining method to perform data scaling operation based on the type of scaling\n",
    "def feature_scale(scale):\n",
    "    numerics = ['int16', 'int32', 'int64', 'float16', 'float32', 'float64']\n",
    "    new_df = df_c.select_dtypes(include=numerics)\n",
    "    if scale == 'datascaling':\n",
    "            scaler = MinMaxScaler()\n",
    "    else:\n",
    "        scaler = StandardScaler()\n",
    "    df_scaled = pd.DataFrame(scaler.fit_transform(new_df.to_numpy()),columns=new_df.columns)\n",
    "    return df_scaled"
   ]
  },
  {
   "cell_type": "code",
   "execution_count": 36,
   "id": "ed0b9b3f",
   "metadata": {},
   "outputs": [
    {
     "data": {
      "text/html": [
       "<div>\n",
       "<style scoped>\n",
       "    .dataframe tbody tr th:only-of-type {\n",
       "        vertical-align: middle;\n",
       "    }\n",
       "\n",
       "    .dataframe tbody tr th {\n",
       "        vertical-align: top;\n",
       "    }\n",
       "\n",
       "    .dataframe thead th {\n",
       "        text-align: right;\n",
       "    }\n",
       "</style>\n",
       "<table border=\"1\" class=\"dataframe\">\n",
       "  <thead>\n",
       "    <tr style=\"text-align: right;\">\n",
       "      <th></th>\n",
       "      <th>Item_Weight</th>\n",
       "      <th>Item_Visibility</th>\n",
       "      <th>Item_MRP</th>\n",
       "      <th>Outlet_Establishment_Year</th>\n",
       "      <th>Item_Outlet_Sales</th>\n",
       "    </tr>\n",
       "  </thead>\n",
       "  <tbody>\n",
       "    <tr>\n",
       "      <th>0</th>\n",
       "      <td>0.282525</td>\n",
       "      <td>0.038399</td>\n",
       "      <td>0.927507</td>\n",
       "      <td>0.583333</td>\n",
       "      <td>0.283587</td>\n",
       "    </tr>\n",
       "    <tr>\n",
       "      <th>1</th>\n",
       "      <td>0.081274</td>\n",
       "      <td>0.048346</td>\n",
       "      <td>0.072068</td>\n",
       "      <td>1.000000</td>\n",
       "      <td>0.031419</td>\n",
       "    </tr>\n",
       "    <tr>\n",
       "      <th>2</th>\n",
       "      <td>0.770765</td>\n",
       "      <td>0.040593</td>\n",
       "      <td>0.468288</td>\n",
       "      <td>0.583333</td>\n",
       "      <td>0.158115</td>\n",
       "    </tr>\n",
       "    <tr>\n",
       "      <th>3</th>\n",
       "      <td>0.871986</td>\n",
       "      <td>0.218055</td>\n",
       "      <td>0.640093</td>\n",
       "      <td>0.541667</td>\n",
       "      <td>0.053555</td>\n",
       "    </tr>\n",
       "    <tr>\n",
       "      <th>4</th>\n",
       "      <td>0.260494</td>\n",
       "      <td>0.186950</td>\n",
       "      <td>0.095805</td>\n",
       "      <td>0.083333</td>\n",
       "      <td>0.073651</td>\n",
       "    </tr>\n",
       "    <tr>\n",
       "      <th>...</th>\n",
       "      <td>...</td>\n",
       "      <td>...</td>\n",
       "      <td>...</td>\n",
       "      <td>...</td>\n",
       "      <td>...</td>\n",
       "    </tr>\n",
       "    <tr>\n",
       "      <th>14199</th>\n",
       "      <td>0.353974</td>\n",
       "      <td>0.030546</td>\n",
       "      <td>0.467004</td>\n",
       "      <td>0.500000</td>\n",
       "      <td>0.164551</td>\n",
       "    </tr>\n",
       "    <tr>\n",
       "      <th>14200</th>\n",
       "      <td>0.181304</td>\n",
       "      <td>0.429216</td>\n",
       "      <td>0.585126</td>\n",
       "      <td>1.000000</td>\n",
       "      <td>0.164551</td>\n",
       "    </tr>\n",
       "    <tr>\n",
       "      <th>14201</th>\n",
       "      <td>0.324204</td>\n",
       "      <td>0.215364</td>\n",
       "      <td>0.371199</td>\n",
       "      <td>0.708333</td>\n",
       "      <td>0.164551</td>\n",
       "    </tr>\n",
       "    <tr>\n",
       "      <th>14202</th>\n",
       "      <td>0.639774</td>\n",
       "      <td>0.188211</td>\n",
       "      <td>0.778154</td>\n",
       "      <td>0.916667</td>\n",
       "      <td>0.164551</td>\n",
       "    </tr>\n",
       "    <tr>\n",
       "      <th>14203</th>\n",
       "      <td>0.294433</td>\n",
       "      <td>0.311393</td>\n",
       "      <td>0.205884</td>\n",
       "      <td>0.708333</td>\n",
       "      <td>0.164551</td>\n",
       "    </tr>\n",
       "  </tbody>\n",
       "</table>\n",
       "<p>14204 rows × 5 columns</p>\n",
       "</div>"
      ],
      "text/plain": [
       "       Item_Weight  Item_Visibility  Item_MRP  Outlet_Establishment_Year  \\\n",
       "0         0.282525         0.038399  0.927507                   0.583333   \n",
       "1         0.081274         0.048346  0.072068                   1.000000   \n",
       "2         0.770765         0.040593  0.468288                   0.583333   \n",
       "3         0.871986         0.218055  0.640093                   0.541667   \n",
       "4         0.260494         0.186950  0.095805                   0.083333   \n",
       "...            ...              ...       ...                        ...   \n",
       "14199     0.353974         0.030546  0.467004                   0.500000   \n",
       "14200     0.181304         0.429216  0.585126                   1.000000   \n",
       "14201     0.324204         0.215364  0.371199                   0.708333   \n",
       "14202     0.639774         0.188211  0.778154                   0.916667   \n",
       "14203     0.294433         0.311393  0.205884                   0.708333   \n",
       "\n",
       "       Item_Outlet_Sales  \n",
       "0               0.283587  \n",
       "1               0.031419  \n",
       "2               0.158115  \n",
       "3               0.053555  \n",
       "4               0.073651  \n",
       "...                  ...  \n",
       "14199           0.164551  \n",
       "14200           0.164551  \n",
       "14201           0.164551  \n",
       "14202           0.164551  \n",
       "14203           0.164551  \n",
       "\n",
       "[14204 rows x 5 columns]"
      ]
     },
     "execution_count": 36,
     "metadata": {},
     "output_type": "execute_result"
    }
   ],
   "source": [
    "scale = 'datascaling' \n",
    "df_scaled=feature_scale(scale)\n",
    "df_scaled"
   ]
  },
  {
   "cell_type": "markdown",
   "id": "00594fa1",
   "metadata": {},
   "source": [
    "#### LinearRegression"
   ]
  },
  {
   "cell_type": "code",
   "execution_count": 40,
   "id": "68fc39ea",
   "metadata": {},
   "outputs": [],
   "source": [
    "#seperating dependent and independent column\n",
    "X=df_scaled.drop(columns='Item_Outlet_Sales').to_numpy()\n",
    "y=df_scaled['Item_Outlet_Sales'].to_numpy()"
   ]
  },
  {
   "cell_type": "code",
   "execution_count": 41,
   "id": "bd1d6eaa",
   "metadata": {},
   "outputs": [],
   "source": [
    "cv = KFold(n_splits=3, shuffle=True, random_state=1) #splitting data"
   ]
  },
  {
   "cell_type": "code",
   "execution_count": 42,
   "id": "9af288b5",
   "metadata": {},
   "outputs": [],
   "source": [
    "for train, test in cv.split(X,y):\n",
    "    X_train, X_test=X[train],X[test]\n",
    "    y_train, y_test=y[train],y[test]"
   ]
  },
  {
   "cell_type": "code",
   "execution_count": 43,
   "id": "de0cd58d",
   "metadata": {},
   "outputs": [],
   "source": [
    "#building model\n",
    "model1=LinearRegression() "
   ]
  },
  {
   "cell_type": "code",
   "execution_count": 44,
   "id": "540d8dba",
   "metadata": {},
   "outputs": [],
   "source": [
    "#fitting model\n",
    "reg1=model1.fit(X_train, y_train) "
   ]
  },
  {
   "cell_type": "code",
   "execution_count": 45,
   "id": "980d00c7",
   "metadata": {},
   "outputs": [
    {
     "data": {
      "text/plain": [
       "array([0.25578068, 0.17566849, 0.14217819, ..., 0.13684702, 0.21350709,\n",
       "       0.11161601])"
      ]
     },
     "execution_count": 45,
     "metadata": {},
     "output_type": "execute_result"
    }
   ],
   "source": [
    "#predicting values\n",
    "y1_pred=reg1.predict(X_test) \n",
    "y1_pred "
   ]
  },
  {
   "cell_type": "code",
   "execution_count": 46,
   "id": "61b0ea5f",
   "metadata": {},
   "outputs": [],
   "source": [
    "#evaluating models \n",
    "\n",
    "scoring=['r2','neg_mean_squared_error','neg_root_mean_squared_error','neg_mean_absolute_percentage_error','neg_median_absolute_error']\n",
    "scores1 = cross_validate(model1, X, y, scoring=scoring, cv=cv) "
   ]
  },
  {
   "cell_type": "code",
   "execution_count": 47,
   "id": "d6dd801f",
   "metadata": {},
   "outputs": [],
   "source": [
    "m1s1=(scores1['test_r2'])\n",
    "m1s2=(scores1['test_neg_mean_squared_error'])\n",
    "m1s3=(scores1['test_neg_root_mean_squared_error'])\n",
    "m1s4=(scores1['test_neg_mean_absolute_percentage_error'])\n",
    "m1s5=(scores1['test_neg_median_absolute_error'])"
   ]
  },
  {
   "cell_type": "code",
   "execution_count": 48,
   "id": "4a7d245e",
   "metadata": {},
   "outputs": [
    {
     "name": "stdout",
     "output_type": "stream",
     "text": [
      "r2:0.20608620115301687\n",
      "MSE:-0.008136318770314099\n",
      "RMSE:-0.09019766796224922\n",
      "MAPE:-55230793764.6279\n",
      "MAE:-0.04872993502183572\n"
     ]
    }
   ],
   "source": [
    "print(f'''r2:{mean(m1s1)}\n",
    "MSE:{mean(m1s2)}\n",
    "RMSE:{mean(m1s3)}\n",
    "MAPE:{mean(m1s4)}\n",
    "MAE:{mean(m1s5)}''')"
   ]
  },
  {
   "cell_type": "markdown",
   "id": "b5101a52",
   "metadata": {},
   "source": [
    "#### Random Forest Regressor"
   ]
  },
  {
   "cell_type": "code",
   "execution_count": 49,
   "id": "50b19264",
   "metadata": {},
   "outputs": [],
   "source": [
    "model2 = RandomForestRegressor() #building model"
   ]
  },
  {
   "cell_type": "code",
   "execution_count": 50,
   "id": "e297672a",
   "metadata": {},
   "outputs": [],
   "source": [
    "reg2=model2.fit(X_train, y_train) #fitting model"
   ]
  },
  {
   "cell_type": "code",
   "execution_count": 51,
   "id": "311e8a8b",
   "metadata": {},
   "outputs": [
    {
     "data": {
      "text/plain": [
       "array([0.28730479, 0.17504267, 0.14696735, ..., 0.1418185 , 0.23602186,\n",
       "       0.15443277])"
      ]
     },
     "execution_count": 51,
     "metadata": {},
     "output_type": "execute_result"
    }
   ],
   "source": [
    "y2_pred=reg2.predict(X_test) #predicting values\n",
    "y2_pred "
   ]
  },
  {
   "cell_type": "code",
   "execution_count": 52,
   "id": "d3c230a3",
   "metadata": {},
   "outputs": [],
   "source": [
    "scores2 = cross_validate(model2, X, y, scoring=scoring, cv=cv) #model evaluation"
   ]
  },
  {
   "cell_type": "code",
   "execution_count": 53,
   "id": "dc5b0a52",
   "metadata": {},
   "outputs": [],
   "source": [
    "m2s1=(scores2['test_r2'])\n",
    "m2s2=(scores2['test_neg_mean_squared_error'])\n",
    "m2s3=(scores2['test_neg_root_mean_squared_error'])\n",
    "m2s4=(scores2['test_neg_mean_absolute_percentage_error'])\n",
    "m2s5=(scores2['test_neg_median_absolute_error'])"
   ]
  },
  {
   "cell_type": "code",
   "execution_count": 54,
   "id": "6ccbdf83",
   "metadata": {},
   "outputs": [
    {
     "name": "stdout",
     "output_type": "stream",
     "text": [
      "r2:0.17423141776675147\n",
      "MSE:-0.008458992277633273\n",
      "RMSE:-0.09197219163160734\n",
      "MAPE:-61795668955.976776\n",
      "MAE:-0.05184175215849393\n"
     ]
    }
   ],
   "source": [
    "print(f'''r2:{mean(m2s1)}\n",
    "MSE:{mean(m2s2)}\n",
    "RMSE:{mean(m2s3)}\n",
    "MAPE:{mean(m2s4)}\n",
    "MAE:{mean(m2s5)}''')"
   ]
  },
  {
   "cell_type": "markdown",
   "id": "6e9149ef",
   "metadata": {},
   "source": [
    "#### Ada Boost Regressor"
   ]
  },
  {
   "cell_type": "code",
   "execution_count": 55,
   "id": "909f59a2",
   "metadata": {},
   "outputs": [],
   "source": [
    "model3 = AdaBoostRegressor() #building mmodel"
   ]
  },
  {
   "cell_type": "code",
   "execution_count": 56,
   "id": "d53737bf",
   "metadata": {},
   "outputs": [],
   "source": [
    "reg3=model3.fit(X_train, y_train) #fitting model"
   ]
  },
  {
   "cell_type": "code",
   "execution_count": 57,
   "id": "5bc9b8e8",
   "metadata": {},
   "outputs": [
    {
     "data": {
      "text/plain": [
       "array([0.26982808, 0.1685536 , 0.13089287, ..., 0.15520463, 0.23836154,\n",
       "       0.10949857])"
      ]
     },
     "execution_count": 57,
     "metadata": {},
     "output_type": "execute_result"
    }
   ],
   "source": [
    "y3_pred=reg3.predict(X_test) #predicting values\n",
    "y3_pred "
   ]
  },
  {
   "cell_type": "code",
   "execution_count": 58,
   "id": "dec5816c",
   "metadata": {},
   "outputs": [],
   "source": [
    "scores3 = cross_validate(model3, X, y, scoring=scoring, cv=cv) #model evaluation"
   ]
  },
  {
   "cell_type": "code",
   "execution_count": 59,
   "id": "b3f279d4",
   "metadata": {},
   "outputs": [],
   "source": [
    "m3s1=(scores3['test_r2'])\n",
    "m3s2=(scores3['test_neg_mean_squared_error'])\n",
    "m3s3=(scores3['test_neg_root_mean_squared_error'])\n",
    "m3s4=(scores3['test_neg_mean_absolute_percentage_error'])\n",
    "m3s5=(scores3['test_neg_median_absolute_error'])"
   ]
  },
  {
   "cell_type": "code",
   "execution_count": 60,
   "id": "2053328d",
   "metadata": {},
   "outputs": [
    {
     "name": "stdout",
     "output_type": "stream",
     "text": [
      "r2:0.11691534126101726\n",
      "MSE:-0.009045298650680161\n",
      "RMSE:-0.0951054611680684\n",
      "MAPE:-62795309431.82981\n",
      "MAE:-0.05959257353365519\n"
     ]
    }
   ],
   "source": [
    "print(f'''r2:{mean(m3s1)}\n",
    "MSE:{mean(m3s2)}\n",
    "RMSE:{mean(m3s3)}\n",
    "MAPE:{mean(m3s4)}\n",
    "MAE:{mean(m3s5)}''')"
   ]
  },
  {
   "cell_type": "markdown",
   "id": "b1dc29f5",
   "metadata": {},
   "source": [
    "#### Stacking"
   ]
  },
  {
   "cell_type": "code",
   "execution_count": 62,
   "id": "1fd65d2d",
   "metadata": {},
   "outputs": [],
   "source": [
    "estimator=[('lr',LinearRegression()),('knn',KNeighborsRegressor()),('tree',DecisionTreeRegressor()),('svm',SVR())]\n",
    "final_estimators=LinearRegression()\n",
    "model4 = StackingRegressor(estimators=estimator, final_estimator=final_estimators, cv=3) #building model"
   ]
  },
  {
   "cell_type": "code",
   "execution_count": 63,
   "id": "2d82b8e3",
   "metadata": {},
   "outputs": [],
   "source": [
    "reg4=model4.fit(X_train, y_train) #fitting model\n"
   ]
  },
  {
   "cell_type": "code",
   "execution_count": 64,
   "id": "a08ea3dc",
   "metadata": {},
   "outputs": [
    {
     "data": {
      "text/plain": [
       "array([0.21194166, 0.15690305, 0.14061849, ..., 0.13885081, 0.23422511,\n",
       "       0.13534437])"
      ]
     },
     "execution_count": 64,
     "metadata": {},
     "output_type": "execute_result"
    }
   ],
   "source": [
    "y4_pred=reg4.predict(X_test) #predicting values\n",
    "y4_pred "
   ]
  },
  {
   "cell_type": "code",
   "execution_count": 65,
   "id": "119a3fdc",
   "metadata": {},
   "outputs": [],
   "source": [
    "scores4 = cross_validate(model4, X, y, scoring=scoring, cv=cv) #model evaluation"
   ]
  },
  {
   "cell_type": "code",
   "execution_count": 66,
   "id": "21bfb831",
   "metadata": {},
   "outputs": [],
   "source": [
    "m4s1=(scores4['test_r2'])\n",
    "m4s2=(scores4['test_neg_mean_squared_error'])\n",
    "m4s3=(scores4['test_neg_root_mean_squared_error'])\n",
    "m4s4=(scores4['test_neg_mean_absolute_percentage_error'])\n",
    "m4s5=(scores4['test_neg_median_absolute_error'])"
   ]
  },
  {
   "cell_type": "code",
   "execution_count": 67,
   "id": "58807f4f",
   "metadata": {},
   "outputs": [
    {
     "name": "stdout",
     "output_type": "stream",
     "text": [
      "r2:0.18312374168264567\n",
      "MSE:-0.008371746043408075\n",
      "RMSE:-0.09149209598157232\n",
      "MAPE:-70219971700.59537\n",
      "MAE:-0.05006764508790771\n"
     ]
    }
   ],
   "source": [
    "print(f'''r2:{mean(m4s1)}\n",
    "MSE:{mean(m4s2)}\n",
    "RMSE:{mean(m4s3)}\n",
    "MAPE:{mean(m4s4)}\n",
    "MAE:{mean(m4s5)}''')"
   ]
  },
  {
   "cell_type": "markdown",
   "id": "bb4dab6f",
   "metadata": {},
   "source": [
    "### Model Comparison"
   ]
  },
  {
   "cell_type": "code",
   "execution_count": 68,
   "id": "d65ab8d3",
   "metadata": {},
   "outputs": [
    {
     "data": {
      "text/html": [
       "<div>\n",
       "<style scoped>\n",
       "    .dataframe tbody tr th:only-of-type {\n",
       "        vertical-align: middle;\n",
       "    }\n",
       "\n",
       "    .dataframe tbody tr th {\n",
       "        vertical-align: top;\n",
       "    }\n",
       "\n",
       "    .dataframe thead th {\n",
       "        text-align: right;\n",
       "    }\n",
       "</style>\n",
       "<table border=\"1\" class=\"dataframe\">\n",
       "  <thead>\n",
       "    <tr style=\"text-align: right;\">\n",
       "      <th></th>\n",
       "      <th>Model</th>\n",
       "      <th>R2</th>\n",
       "      <th>MSE</th>\n",
       "      <th>RMSE</th>\n",
       "      <th>MAPE</th>\n",
       "      <th>MAE</th>\n",
       "    </tr>\n",
       "  </thead>\n",
       "  <tbody>\n",
       "    <tr>\n",
       "      <th>0</th>\n",
       "      <td>Linear Regression</td>\n",
       "      <td>0.206086</td>\n",
       "      <td>-0.008136</td>\n",
       "      <td>-0.090198</td>\n",
       "      <td>-5.523079e+10</td>\n",
       "      <td>-0.048730</td>\n",
       "    </tr>\n",
       "    <tr>\n",
       "      <th>1</th>\n",
       "      <td>Random Forest Regressor</td>\n",
       "      <td>0.174231</td>\n",
       "      <td>-0.008459</td>\n",
       "      <td>-0.091972</td>\n",
       "      <td>-6.179567e+10</td>\n",
       "      <td>-0.051842</td>\n",
       "    </tr>\n",
       "    <tr>\n",
       "      <th>2</th>\n",
       "      <td>ADA Boost Regressor</td>\n",
       "      <td>0.116915</td>\n",
       "      <td>-0.009045</td>\n",
       "      <td>-0.095105</td>\n",
       "      <td>-6.279531e+10</td>\n",
       "      <td>-0.059593</td>\n",
       "    </tr>\n",
       "    <tr>\n",
       "      <th>3</th>\n",
       "      <td>Stacking</td>\n",
       "      <td>0.183124</td>\n",
       "      <td>-0.008372</td>\n",
       "      <td>-0.091492</td>\n",
       "      <td>-7.021997e+10</td>\n",
       "      <td>-0.050068</td>\n",
       "    </tr>\n",
       "  </tbody>\n",
       "</table>\n",
       "</div>"
      ],
      "text/plain": [
       "                     Model        R2       MSE      RMSE          MAPE  \\\n",
       "0        Linear Regression  0.206086 -0.008136 -0.090198 -5.523079e+10   \n",
       "1  Random Forest Regressor  0.174231 -0.008459 -0.091972 -6.179567e+10   \n",
       "2      ADA Boost Regressor  0.116915 -0.009045 -0.095105 -6.279531e+10   \n",
       "3                 Stacking  0.183124 -0.008372 -0.091492 -7.021997e+10   \n",
       "\n",
       "        MAE  \n",
       "0 -0.048730  \n",
       "1 -0.051842  \n",
       "2 -0.059593  \n",
       "3 -0.050068  "
      ]
     },
     "execution_count": 68,
     "metadata": {},
     "output_type": "execute_result"
    }
   ],
   "source": [
    "#tabulation\n",
    "comp=pd.DataFrame()\n",
    "comp['Model']=['Linear Regression','Random Forest Regressor','ADA Boost Regressor','Stacking']\n",
    "comp['R2']=[mean(m1s1),mean(m2s1),mean(m3s1),mean(m4s1)]\n",
    "comp['MSE']=[mean(m1s2),mean(m2s2),mean(m3s2),mean(m4s2)]\n",
    "comp['RMSE']=[mean(m1s3),mean(m2s3),mean(m3s3),mean(m4s3)]\n",
    "comp['MAPE']=[mean(m1s4),mean(m2s4),mean(m3s4),mean(m4s4)]\n",
    "comp['MAE']=[mean(m1s5),mean(m2s5),mean(m3s5),mean(m4s5)]\n",
    "comp"
   ]
  },
  {
   "cell_type": "code",
   "execution_count": 69,
   "id": "79b31113",
   "metadata": {},
   "outputs": [
    {
     "data": {
      "image/png": "[encoded data removed]",
      "text/plain": [
       "<Figure size 720x360 with 1 Axes>"
      ]
     },
     "metadata": {
      "needs_background": "light"
     },
     "output_type": "display_data"
    }
   ],
   "source": [
    "#visualizatiom\n",
    "names=['Linear Regression','Random Forest Regressor','ADA Boost Regressor','Stacking']\n",
    "fig, ax = plt.subplots(figsize = (10, 5))\n",
    "plt.title('R2 values of Models')\n",
    "plt.boxplot([m1s1,m2s1,m3s1,m4s1], labels=names, showmeans=True);"
   ]
  },
  {
   "cell_type": "markdown",
   "id": "a808d3ac",
   "metadata": {},
   "source": [
    "#### Interpretation: R2 value of Stacking is high when compared to others"
   ]
  },
  {
   "cell_type": "code",
   "execution_count": 70,
   "id": "f78f92b0",
   "metadata": {},
   "outputs": [
    {
     "data": {
      "image/png": "[encoded data removed]",
      "text/plain": [
       "<Figure size 720x360 with 1 Axes>"
      ]
     },
     "metadata": {
      "needs_background": "light"
     },
     "output_type": "display_data"
    }
   ],
   "source": [
    "fig, ax = plt.subplots(figsize = (10, 5))\n",
    "plt.title('MSE values of Models')\n",
    "plt.boxplot([m1s2,m2s2,m3s2,m4s2], labels=names, showmeans=True);"
   ]
  },
  {
   "cell_type": "markdown",
   "id": "167e654c",
   "metadata": {},
   "source": [
    "#### Interpretation : MSE of Stacking is high when compared to others."
   ]
  },
  {
   "cell_type": "code",
   "execution_count": 71,
   "id": "bb006f5c",
   "metadata": {},
   "outputs": [
    {
     "data": {
      "image/png": "[encoded data removed]",
      "text/plain": [
       "<Figure size 720x360 with 1 Axes>"
      ]
     },
     "metadata": {
      "needs_background": "light"
     },
     "output_type": "display_data"
    }
   ],
   "source": [
    "fig, ax = plt.subplots(figsize = (10, 5))\n",
    "plt.title('RMSE values of Models')\n",
    "plt.boxplot([m1s3,m2s3,m3s3,m4s3], labels=names, showmeans=True);"
   ]
  },
  {
   "cell_type": "markdown",
   "id": "837e52df",
   "metadata": {},
   "source": [
    "#### Interpretation :RMSE value of stacking is high when compared to others"
   ]
  },
  {
   "cell_type": "code",
   "execution_count": 72,
   "id": "27768903",
   "metadata": {},
   "outputs": [
    {
     "data": {
      "image/png": "[encoded data removed]",
      "text/plain": [
       "<Figure size 720x360 with 1 Axes>"
      ]
     },
     "metadata": {
      "needs_background": "light"
     },
     "output_type": "display_data"
    }
   ],
   "source": [
    "fig, ax = plt.subplots(figsize = (10, 5))\n",
    "plt.title('MAPE values of Models')\n",
    "plt.boxplot([m1s4,m2s4,m3s4,m4s4], labels=names, showmeans=True);"
   ]
  },
  {
   "cell_type": "markdown",
   "id": "7280d5fb",
   "metadata": {},
   "source": [
    "#### Interpretation :MAPE of Stacking is high when compared to others."
   ]
  },
  {
   "cell_type": "code",
   "execution_count": 73,
   "id": "b6f4f87d",
   "metadata": {},
   "outputs": [
    {
     "data": {
      "image/png": "[encoded data removed]",
      "text/plain": [
       "<Figure size 720x360 with 1 Axes>"
      ]
     },
     "metadata": {
      "needs_background": "light"
     },
     "output_type": "display_data"
    }
   ],
   "source": [
    "fig, ax = plt.subplots(figsize = (10, 5))\n",
    "plt.title('MAE values of Models')\n",
    "plt.boxplot([m1s5,m2s5,m3s5,m4s5], labels=names, showmeans=True);"
   ]
  },
  {
   "cell_type": "markdown",
   "id": "3e66913d",
   "metadata": {},
   "source": [
    "#### Interpretation: MAE value of Stacking is higher compared to other models."
   ]
  },
  {
   "cell_type": "markdown",
   "id": "1ecbc21d",
   "metadata": {},
   "source": [
    "#### Scatter Plot of Predicted and Actual Values of stacking"
   ]
  },
  {
   "cell_type": "code",
   "execution_count": 79,
   "id": "132badbe",
   "metadata": {},
   "outputs": [
    {
     "data": {
      "image/png": "[encoded data removed]",
      "text/plain": [
       "<Figure size 432x288 with 1 Axes>"
      ]
     },
     "metadata": {
      "needs_background": "light"
     },
     "output_type": "display_data"
    }
   ],
   "source": [
    "x=list(np.arange(0,len(y_test)))\n",
    "plt.scatter(x,y_test)\n",
    "plt.scatter(x,y4_pred,color='red');"
   ]
  },
  {
   "cell_type": "markdown",
   "id": "c7a41fd0",
   "metadata": {},
   "source": [
    "#### Conclusion: From the analysis we can conclude that  most of predicted and actual values overlap each other & therefore performance of the model is good"
   ]
  }
 ],
 "metadata": {
  "kernelspec": {
   "display_name": "Python 3 (ipykernel)",
   "language": "python",
   "name": "python3"
  },
  "language_info": {
   "codemirror_mode": {
    "name": "ipython",
    "version": 3
   },
   "file_extension": ".py",
   "mimetype": "text/x-python",
   "name": "python",
   "nbconvert_exporter": "python",
   "pygments_lexer": "ipython3",
   "version": "3.9.12"
  }
 },
 "nbformat": 4,
 "nbformat_minor": 5
}
