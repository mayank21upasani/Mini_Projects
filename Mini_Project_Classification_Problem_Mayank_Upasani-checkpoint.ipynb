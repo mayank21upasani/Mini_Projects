{
 "cells": [
  {
   "cell_type": "code",
   "execution_count": 1,
   "id": "5820ba21",
   "metadata": {},
   "outputs": [],
   "source": [
    "\n",
    "# general imports\n",
    "import pandas as pd\n",
    "import numpy as np\n",
    "import matplotlib.pyplot as plt\n",
    "from numpy import mean\n",
    "from numpy import std\n",
    "import seaborn as sns\n",
    "import warnings\n",
    "warnings.filterwarnings(\"ignore\")\n",
    "from sklearn.preprocessing import LabelEncoder\n",
    "from sklearn.preprocessing import StandardScaler\n",
    "\n",
    "#splitting imports\n",
    "from sklearn.model_selection import train_test_split\n",
    "from sklearn.model_selection import RepeatedStratifiedKFold\n",
    "from sklearn.model_selection import StratifiedKFold\n",
    "from sklearn.model_selection import KFold\n",
    "from sklearn.model_selection import GridSearchCV\n",
    "\n",
    "#model imports\n",
    "from sklearn.ensemble import RandomForestClassifier\n",
    "from sklearn.linear_model import LogisticRegression\n",
    "from sklearn.neighbors import KNeighborsClassifier\n",
    "from sklearn.tree import DecisionTreeClassifier\n",
    "from sklearn.svm import SVC\n",
    "from sklearn.naive_bayes import GaussianNB\n",
    "from sklearn.ensemble import StackingClassifier\n",
    "from sklearn.ensemble import AdaBoostClassifier\n",
    "\n",
    "#evaluation imports\n",
    "from sklearn.model_selection import cross_val_score\n",
    "from sklearn.model_selection import cross_validate\n",
    "from sklearn.metrics import accuracy_score"
   ]
  },
  {
   "cell_type": "markdown",
   "id": "f161458c",
   "metadata": {},
   "source": [
    "• Here we are using HouseGrade data"
   ]
  },
  {
   "cell_type": "markdown",
   "id": "5b0ab827",
   "metadata": {},
   "source": [
    "#### Loading the Dataset"
   ]
  },
  {
   "cell_type": "code",
   "execution_count": 2,
   "id": "738c7c66",
   "metadata": {},
   "outputs": [],
   "source": [
    "data=pd.read_csv('DS3_C6_S2_Classification_HouseGrade_Data_Project.csv')"
   ]
  },
  {
   "cell_type": "code",
   "execution_count": 3,
   "id": "60ea849e",
   "metadata": {
    "scrolled": true
   },
   "outputs": [
    {
     "data": {
      "text/html": [
       "<div>\n",
       "<style scoped>\n",
       "    .dataframe tbody tr th:only-of-type {\n",
       "        vertical-align: middle;\n",
       "    }\n",
       "\n",
       "    .dataframe tbody tr th {\n",
       "        vertical-align: top;\n",
       "    }\n",
       "\n",
       "    .dataframe thead th {\n",
       "        text-align: right;\n",
       "    }\n",
       "</style>\n",
       "<table border=\"1\" class=\"dataframe\">\n",
       "  <thead>\n",
       "    <tr style=\"text-align: right;\">\n",
       "      <th></th>\n",
       "      <th>Id</th>\n",
       "      <th>Area(total)</th>\n",
       "      <th>Trooms</th>\n",
       "      <th>Nbedrooms</th>\n",
       "      <th>Nbwashrooms</th>\n",
       "      <th>Twashrooms</th>\n",
       "      <th>roof</th>\n",
       "      <th>Roof(Area)</th>\n",
       "      <th>Lawn(Area)</th>\n",
       "      <th>Nfloors</th>\n",
       "      <th>API</th>\n",
       "      <th>ANB</th>\n",
       "      <th>Expected price</th>\n",
       "      <th>Grade</th>\n",
       "    </tr>\n",
       "  </thead>\n",
       "  <tbody>\n",
       "    <tr>\n",
       "      <th>0</th>\n",
       "      <td>1</td>\n",
       "      <td>339</td>\n",
       "      <td>6</td>\n",
       "      <td>5</td>\n",
       "      <td>4</td>\n",
       "      <td>6</td>\n",
       "      <td>NO</td>\n",
       "      <td>0</td>\n",
       "      <td>76</td>\n",
       "      <td>2</td>\n",
       "      <td>79</td>\n",
       "      <td>6</td>\n",
       "      <td>3481</td>\n",
       "      <td>D</td>\n",
       "    </tr>\n",
       "    <tr>\n",
       "      <th>1</th>\n",
       "      <td>2</td>\n",
       "      <td>358</td>\n",
       "      <td>5</td>\n",
       "      <td>4</td>\n",
       "      <td>3</td>\n",
       "      <td>4</td>\n",
       "      <td>YES</td>\n",
       "      <td>71</td>\n",
       "      <td>96</td>\n",
       "      <td>3</td>\n",
       "      <td>72</td>\n",
       "      <td>4</td>\n",
       "      <td>3510</td>\n",
       "      <td>D</td>\n",
       "    </tr>\n",
       "    <tr>\n",
       "      <th>2</th>\n",
       "      <td>3</td>\n",
       "      <td>324</td>\n",
       "      <td>7</td>\n",
       "      <td>5</td>\n",
       "      <td>4</td>\n",
       "      <td>5</td>\n",
       "      <td>YES</td>\n",
       "      <td>101</td>\n",
       "      <td>117</td>\n",
       "      <td>5</td>\n",
       "      <td>64</td>\n",
       "      <td>3</td>\n",
       "      <td>3748</td>\n",
       "      <td>C</td>\n",
       "    </tr>\n",
       "    <tr>\n",
       "      <th>3</th>\n",
       "      <td>4</td>\n",
       "      <td>330</td>\n",
       "      <td>6</td>\n",
       "      <td>4</td>\n",
       "      <td>3</td>\n",
       "      <td>5</td>\n",
       "      <td>YES</td>\n",
       "      <td>101</td>\n",
       "      <td>82</td>\n",
       "      <td>2</td>\n",
       "      <td>59</td>\n",
       "      <td>2</td>\n",
       "      <td>3134</td>\n",
       "      <td>D</td>\n",
       "    </tr>\n",
       "    <tr>\n",
       "      <th>4</th>\n",
       "      <td>5</td>\n",
       "      <td>320</td>\n",
       "      <td>7</td>\n",
       "      <td>4</td>\n",
       "      <td>4</td>\n",
       "      <td>5</td>\n",
       "      <td>NO</td>\n",
       "      <td>0</td>\n",
       "      <td>75</td>\n",
       "      <td>3</td>\n",
       "      <td>40</td>\n",
       "      <td>1</td>\n",
       "      <td>3843</td>\n",
       "      <td>D</td>\n",
       "    </tr>\n",
       "  </tbody>\n",
       "</table>\n",
       "</div>"
      ],
      "text/plain": [
       "   Id  Area(total)  Trooms  Nbedrooms  Nbwashrooms  Twashrooms roof  \\\n",
       "0   1          339       6          5            4           6   NO   \n",
       "1   2          358       5          4            3           4  YES   \n",
       "2   3          324       7          5            4           5  YES   \n",
       "3   4          330       6          4            3           5  YES   \n",
       "4   5          320       7          4            4           5   NO   \n",
       "\n",
       "   Roof(Area)  Lawn(Area)  Nfloors  API  ANB  Expected price Grade  \n",
       "0           0          76        2   79    6            3481     D  \n",
       "1          71          96        3   72    4            3510     D  \n",
       "2         101         117        5   64    3            3748     C  \n",
       "3         101          82        2   59    2            3134     D  \n",
       "4           0          75        3   40    1            3843     D  "
      ]
     },
     "execution_count": 3,
     "metadata": {},
     "output_type": "execute_result"
    }
   ],
   "source": [
    "data.head()"
   ]
  },
  {
   "cell_type": "code",
   "execution_count": 4,
   "id": "337e70dc",
   "metadata": {},
   "outputs": [
    {
     "data": {
      "text/html": [
       "<div>\n",
       "<style scoped>\n",
       "    .dataframe tbody tr th:only-of-type {\n",
       "        vertical-align: middle;\n",
       "    }\n",
       "\n",
       "    .dataframe tbody tr th {\n",
       "        vertical-align: top;\n",
       "    }\n",
       "\n",
       "    .dataframe thead th {\n",
       "        text-align: right;\n",
       "    }\n",
       "</style>\n",
       "<table border=\"1\" class=\"dataframe\">\n",
       "  <thead>\n",
       "    <tr style=\"text-align: right;\">\n",
       "      <th></th>\n",
       "      <th>Id</th>\n",
       "      <th>Area(total)</th>\n",
       "      <th>Trooms</th>\n",
       "      <th>Nbedrooms</th>\n",
       "      <th>Nbwashrooms</th>\n",
       "      <th>Twashrooms</th>\n",
       "      <th>Roof(Area)</th>\n",
       "      <th>Lawn(Area)</th>\n",
       "      <th>Nfloors</th>\n",
       "      <th>API</th>\n",
       "      <th>ANB</th>\n",
       "      <th>Expected price</th>\n",
       "    </tr>\n",
       "  </thead>\n",
       "  <tbody>\n",
       "    <tr>\n",
       "      <th>count</th>\n",
       "      <td>3000.000000</td>\n",
       "      <td>3000.000000</td>\n",
       "      <td>3000.000000</td>\n",
       "      <td>3000.000000</td>\n",
       "      <td>3000.000000</td>\n",
       "      <td>3000.000000</td>\n",
       "      <td>3000.000000</td>\n",
       "      <td>3000.000000</td>\n",
       "      <td>3000.000000</td>\n",
       "      <td>3000.000000</td>\n",
       "      <td>3000.00000</td>\n",
       "      <td>3000.000000</td>\n",
       "    </tr>\n",
       "    <tr>\n",
       "      <th>mean</th>\n",
       "      <td>1500.500000</td>\n",
       "      <td>325.117000</td>\n",
       "      <td>7.021667</td>\n",
       "      <td>5.023000</td>\n",
       "      <td>4.513667</td>\n",
       "      <td>6.010667</td>\n",
       "      <td>48.980667</td>\n",
       "      <td>95.609333</td>\n",
       "      <td>4.013333</td>\n",
       "      <td>70.190667</td>\n",
       "      <td>3.47900</td>\n",
       "      <td>3782.938333</td>\n",
       "    </tr>\n",
       "    <tr>\n",
       "      <th>std</th>\n",
       "      <td>866.169729</td>\n",
       "      <td>20.507742</td>\n",
       "      <td>1.421221</td>\n",
       "      <td>1.634838</td>\n",
       "      <td>1.715263</td>\n",
       "      <td>1.786136</td>\n",
       "      <td>48.746641</td>\n",
       "      <td>14.837388</td>\n",
       "      <td>1.621532</td>\n",
       "      <td>17.563460</td>\n",
       "      <td>1.69426</td>\n",
       "      <td>567.189995</td>\n",
       "    </tr>\n",
       "    <tr>\n",
       "      <th>min</th>\n",
       "      <td>1.000000</td>\n",
       "      <td>290.000000</td>\n",
       "      <td>5.000000</td>\n",
       "      <td>2.000000</td>\n",
       "      <td>1.000000</td>\n",
       "      <td>2.000000</td>\n",
       "      <td>0.000000</td>\n",
       "      <td>70.000000</td>\n",
       "      <td>1.000000</td>\n",
       "      <td>40.000000</td>\n",
       "      <td>1.00000</td>\n",
       "      <td>2504.000000</td>\n",
       "    </tr>\n",
       "    <tr>\n",
       "      <th>25%</th>\n",
       "      <td>750.750000</td>\n",
       "      <td>308.000000</td>\n",
       "      <td>6.000000</td>\n",
       "      <td>4.000000</td>\n",
       "      <td>3.000000</td>\n",
       "      <td>5.000000</td>\n",
       "      <td>0.000000</td>\n",
       "      <td>83.000000</td>\n",
       "      <td>3.000000</td>\n",
       "      <td>55.000000</td>\n",
       "      <td>2.00000</td>\n",
       "      <td>3354.000000</td>\n",
       "    </tr>\n",
       "    <tr>\n",
       "      <th>50%</th>\n",
       "      <td>1500.500000</td>\n",
       "      <td>325.000000</td>\n",
       "      <td>7.000000</td>\n",
       "      <td>5.000000</td>\n",
       "      <td>4.000000</td>\n",
       "      <td>6.000000</td>\n",
       "      <td>71.000000</td>\n",
       "      <td>96.000000</td>\n",
       "      <td>4.000000</td>\n",
       "      <td>70.000000</td>\n",
       "      <td>4.00000</td>\n",
       "      <td>3771.000000</td>\n",
       "    </tr>\n",
       "    <tr>\n",
       "      <th>75%</th>\n",
       "      <td>2250.250000</td>\n",
       "      <td>343.000000</td>\n",
       "      <td>8.000000</td>\n",
       "      <td>6.000000</td>\n",
       "      <td>6.000000</td>\n",
       "      <td>7.000000</td>\n",
       "      <td>96.000000</td>\n",
       "      <td>109.000000</td>\n",
       "      <td>5.000000</td>\n",
       "      <td>85.000000</td>\n",
       "      <td>5.00000</td>\n",
       "      <td>4208.000000</td>\n",
       "    </tr>\n",
       "    <tr>\n",
       "      <th>max</th>\n",
       "      <td>3000.000000</td>\n",
       "      <td>360.000000</td>\n",
       "      <td>9.000000</td>\n",
       "      <td>8.000000</td>\n",
       "      <td>8.000000</td>\n",
       "      <td>10.000000</td>\n",
       "      <td>120.000000</td>\n",
       "      <td>120.000000</td>\n",
       "      <td>7.000000</td>\n",
       "      <td>100.000000</td>\n",
       "      <td>6.00000</td>\n",
       "      <td>5216.000000</td>\n",
       "    </tr>\n",
       "  </tbody>\n",
       "</table>\n",
       "</div>"
      ],
      "text/plain": [
       "                Id  Area(total)       Trooms    Nbedrooms  Nbwashrooms  \\\n",
       "count  3000.000000  3000.000000  3000.000000  3000.000000  3000.000000   \n",
       "mean   1500.500000   325.117000     7.021667     5.023000     4.513667   \n",
       "std     866.169729    20.507742     1.421221     1.634838     1.715263   \n",
       "min       1.000000   290.000000     5.000000     2.000000     1.000000   \n",
       "25%     750.750000   308.000000     6.000000     4.000000     3.000000   \n",
       "50%    1500.500000   325.000000     7.000000     5.000000     4.000000   \n",
       "75%    2250.250000   343.000000     8.000000     6.000000     6.000000   \n",
       "max    3000.000000   360.000000     9.000000     8.000000     8.000000   \n",
       "\n",
       "        Twashrooms   Roof(Area)   Lawn(Area)      Nfloors          API  \\\n",
       "count  3000.000000  3000.000000  3000.000000  3000.000000  3000.000000   \n",
       "mean      6.010667    48.980667    95.609333     4.013333    70.190667   \n",
       "std       1.786136    48.746641    14.837388     1.621532    17.563460   \n",
       "min       2.000000     0.000000    70.000000     1.000000    40.000000   \n",
       "25%       5.000000     0.000000    83.000000     3.000000    55.000000   \n",
       "50%       6.000000    71.000000    96.000000     4.000000    70.000000   \n",
       "75%       7.000000    96.000000   109.000000     5.000000    85.000000   \n",
       "max      10.000000   120.000000   120.000000     7.000000   100.000000   \n",
       "\n",
       "              ANB  Expected price  \n",
       "count  3000.00000     3000.000000  \n",
       "mean      3.47900     3782.938333  \n",
       "std       1.69426      567.189995  \n",
       "min       1.00000     2504.000000  \n",
       "25%       2.00000     3354.000000  \n",
       "50%       4.00000     3771.000000  \n",
       "75%       5.00000     4208.000000  \n",
       "max       6.00000     5216.000000  "
      ]
     },
     "execution_count": 4,
     "metadata": {},
     "output_type": "execute_result"
    }
   ],
   "source": [
    "#check the description\n",
    "data.describe()"
   ]
  },
  {
   "cell_type": "code",
   "execution_count": 5,
   "id": "d00140d7",
   "metadata": {},
   "outputs": [
    {
     "data": {
      "text/plain": [
       "Id                 int64\n",
       "Area(total)        int64\n",
       "Trooms             int64\n",
       "Nbedrooms          int64\n",
       "Nbwashrooms        int64\n",
       "Twashrooms         int64\n",
       "roof              object\n",
       "Roof(Area)         int64\n",
       "Lawn(Area)         int64\n",
       "Nfloors            int64\n",
       "API                int64\n",
       "ANB                int64\n",
       "Expected price     int64\n",
       "Grade             object\n",
       "dtype: object"
      ]
     },
     "execution_count": 5,
     "metadata": {},
     "output_type": "execute_result"
    }
   ],
   "source": [
    "#check for the datatypes\n",
    "data.dtypes"
   ]
  },
  {
   "cell_type": "code",
   "execution_count": 6,
   "id": "99c32665",
   "metadata": {},
   "outputs": [
    {
     "data": {
      "text/plain": [
       "Id                0\n",
       "Area(total)       0\n",
       "Trooms            0\n",
       "Nbedrooms         0\n",
       "Nbwashrooms       0\n",
       "Twashrooms        0\n",
       "roof              0\n",
       "Roof(Area)        0\n",
       "Lawn(Area)        0\n",
       "Nfloors           0\n",
       "API               0\n",
       "ANB               0\n",
       "Expected price    0\n",
       "Grade             0\n",
       "dtype: int64"
      ]
     },
     "execution_count": 6,
     "metadata": {},
     "output_type": "execute_result"
    }
   ],
   "source": [
    "#check the null values present in dataset\n",
    "data.isnull().sum()"
   ]
  },
  {
   "cell_type": "markdown",
   "id": "c0f150b5",
   "metadata": {},
   "source": [
    "#### Data Visualization"
   ]
  },
  {
   "cell_type": "markdown",
   "id": "0272a836",
   "metadata": {},
   "source": [
    "#### Grade wise number of bedrooms"
   ]
  },
  {
   "cell_type": "code",
   "execution_count": 7,
   "id": "c3f6b18c",
   "metadata": {},
   "outputs": [
    {
     "data": {
      "image/png": "[encoded data removed]",
      "text/plain": [
       "<Figure size 1080x504 with 2 Axes>"
      ]
     },
     "metadata": {
      "needs_background": "light"
     },
     "output_type": "display_data"
    }
   ],
   "source": [
    "fig, ax = plt.subplots(1, 2, figsize = (15, 7))\n",
    "ax[0].set_title(\"Count of Gradewise rooms\")              # Set the title of the graph\n",
    "percentage = data[\"Grade\"].value_counts()         # value_counts: returns the count of values in series: return series\n",
    "labels = list(data[\"Trooms\"].value_counts().index) # Converting the index of value counts into list\n",
    "\n",
    "sns.countplot(x = data[\"Grade\"], ax = ax[0])\n",
    "plt.pie(percentage,labels = labels, autopct= \"%0.2f%%\")  # autopct: to print the percentage on pie wedge. 2 decimal points used \n",
    "plt.show()"
   ]
  },
  {
   "cell_type": "markdown",
   "id": "bd839b06",
   "metadata": {},
   "source": [
    "Interpretation : Here Most of the houses are in D grade with 42% and only 13% are in A Grade and for B grade it is very less rates"
   ]
  },
  {
   "cell_type": "code",
   "execution_count": 8,
   "id": "511199ca",
   "metadata": {},
   "outputs": [
    {
     "data": {
      "image/png": "[encoded data removed]",
      "text/plain": [
       "<Figure size 864x360 with 1 Axes>"
      ]
     },
     "metadata": {
      "needs_background": "light"
     },
     "output_type": "display_data"
    }
   ],
   "source": [
    "plt.figure(figsize=(12,5))\n",
    "a=sns.countplot(data=data,x='Trooms',hue='Grade')\n",
    "for bar in a.patches:\n",
    "    count=bar.get_height()\n",
    "    x=bar.get_x()+bar.get_width()/2\n",
    "    y=bar.get_height()\n",
    "    a.annotate(count,(x,y),va=\"bottom\",ha=\"center\")"
   ]
  },
  {
   "cell_type": "markdown",
   "id": "e1024213",
   "metadata": {},
   "source": [
    "* Here we can say that D Grade category has the maximum counts of total rooms "
   ]
  },
  {
   "cell_type": "code",
   "execution_count": 9,
   "id": "9490c6bd",
   "metadata": {},
   "outputs": [
    {
     "data": {
      "text/plain": [
       "<AxesSubplot:xlabel='Nbedrooms', ylabel='Expected price'>"
      ]
     },
     "execution_count": 9,
     "metadata": {},
     "output_type": "execute_result"
    },
    {
     "data": {
      "image/png": "[encoded data removed]",
      "text/plain": [
       "<Figure size 432x288 with 1 Axes>"
      ]
     },
     "metadata": {
      "needs_background": "light"
     },
     "output_type": "display_data"
    }
   ],
   "source": [
    "sns.barplot(x=data['Nbedrooms'],y=data['Expected price'],ci=None)"
   ]
  },
  {
   "cell_type": "markdown",
   "id": "4c7cfb7e",
   "metadata": {},
   "source": [
    "* Here we can say that 2 and 3 bedrooms have the lowest price where as higher side for 8 bedrooms"
   ]
  },
  {
   "cell_type": "code",
   "execution_count": 10,
   "id": "2f4535f0",
   "metadata": {},
   "outputs": [
    {
     "data": {
      "image/png": "[encoded data removed]",
      "text/plain": [
       "<Figure size 1080x504 with 1 Axes>"
      ]
     },
     "metadata": {
      "needs_background": "light"
     },
     "output_type": "display_data"
    }
   ],
   "source": [
    "fig, ax = plt.subplots(figsize = (15, 7))\n",
    "at_count=data['Nbedrooms'].value_counts()\n",
    "label=list(data['Nbedrooms'].value_counts().index)\n",
    "plt.title('Bedroom Wise Interest')\n",
    "sns.countplot(x = data['Nbedrooms'],palette='hot_r',hue=data['Grade'],data=data,order=data['Nbedrooms'].value_counts().index);"
   ]
  },
  {
   "cell_type": "markdown",
   "id": "02510f15",
   "metadata": {},
   "source": [
    "Here we can say that people who are interested with 4 bedrooms having more numbers "
   ]
  },
  {
   "cell_type": "code",
   "execution_count": 11,
   "id": "11e651e5",
   "metadata": {},
   "outputs": [
    {
     "data": {
      "image/png": "[encoded data removed]",
      "text/plain": [
       "<Figure size 432x288 with 1 Axes>"
      ]
     },
     "metadata": {
      "needs_background": "light"
     },
     "output_type": "display_data"
    }
   ],
   "source": [
    "ax=sns.boxplot(x='Grade', y='Expected price',data=data)"
   ]
  },
  {
   "cell_type": "markdown",
   "id": "72c791cd",
   "metadata": {},
   "source": [
    "The A grade has high price ranging from 4200 to 4800 and when the grade decreseas the price also decreases"
   ]
  },
  {
   "cell_type": "code",
   "execution_count": 12,
   "id": "832f2409",
   "metadata": {},
   "outputs": [
    {
     "data": {
      "text/plain": [
       "Id                0\n",
       "Area(total)       0\n",
       "Trooms            0\n",
       "Nbedrooms         0\n",
       "Nbwashrooms       0\n",
       "Twashrooms        0\n",
       "roof              0\n",
       "Roof(Area)        0\n",
       "Lawn(Area)        0\n",
       "Nfloors           0\n",
       "API               0\n",
       "ANB               0\n",
       "Expected price    0\n",
       "Grade             0\n",
       "dtype: int64"
      ]
     },
     "execution_count": 12,
     "metadata": {},
     "output_type": "execute_result"
    }
   ],
   "source": [
    "#check for the null values \n",
    "data.isnull().sum()"
   ]
  },
  {
   "cell_type": "code",
   "execution_count": 13,
   "id": "5eb3d53a",
   "metadata": {},
   "outputs": [],
   "source": [
    "#Converting Categorical column to Numerical column.\n",
    "data['roof']=data['roof'].astype('category')\n",
    "data['roof']=LabelEncoder().fit_transform(data['roof'])"
   ]
  },
  {
   "cell_type": "code",
   "execution_count": 14,
   "id": "cbc3e165",
   "metadata": {},
   "outputs": [],
   "source": [
    "data['Grade']=data['Grade'].astype('category')\n",
    "data['Grade']=LabelEncoder().fit_transform(data['Grade'])"
   ]
  },
  {
   "cell_type": "code",
   "execution_count": 15,
   "id": "db7c2575",
   "metadata": {},
   "outputs": [
    {
     "data": {
      "image/png": "[encoded data removed]",
      "text/plain": [
       "<Figure size 1296x648 with 2 Axes>"
      ]
     },
     "metadata": {
      "needs_background": "light"
     },
     "output_type": "display_data"
    }
   ],
   "source": [
    "#check for the correlation for dataset\n",
    "data_corr=data.corr() \n",
    "fig, ax = plt.subplots(figsize = (18, 9))\n",
    "sns.heatmap(data_corr,annot=True);"
   ]
  },
  {
   "cell_type": "code",
   "execution_count": 16,
   "id": "6d6f115a",
   "metadata": {},
   "outputs": [
    {
     "data": {
      "text/plain": [
       "Grade             1.000000\n",
       "Trooms            0.875145\n",
       "Nbedrooms         0.865389\n",
       "Nbwashrooms       0.847319\n",
       "Twashrooms        0.819280\n",
       "Nfloors           0.787623\n",
       "Expected price    0.760820\n",
       "Area(total)       0.177332\n",
       "Roof(Area)        0.170259\n",
       "roof              0.166635\n",
       "API               0.099000\n",
       "Lawn(Area)        0.051200\n",
       "ANB               0.024025\n",
       "Id                0.006074\n",
       "Name: Grade, dtype: float64"
      ]
     },
     "execution_count": 16,
     "metadata": {},
     "output_type": "execute_result"
    }
   ],
   "source": [
    "abs(data_corr['Grade']).sort_values(ascending=False)"
   ]
  },
  {
   "cell_type": "code",
   "execution_count": 17,
   "id": "44a1c7c8",
   "metadata": {},
   "outputs": [
    {
     "data": {
      "text/html": [
       "<div>\n",
       "<style scoped>\n",
       "    .dataframe tbody tr th:only-of-type {\n",
       "        vertical-align: middle;\n",
       "    }\n",
       "\n",
       "    .dataframe tbody tr th {\n",
       "        vertical-align: top;\n",
       "    }\n",
       "\n",
       "    .dataframe thead th {\n",
       "        text-align: right;\n",
       "    }\n",
       "</style>\n",
       "<table border=\"1\" class=\"dataframe\">\n",
       "  <thead>\n",
       "    <tr style=\"text-align: right;\">\n",
       "      <th></th>\n",
       "      <th>Area(total)</th>\n",
       "      <th>Trooms</th>\n",
       "      <th>Nbedrooms</th>\n",
       "      <th>Nbwashrooms</th>\n",
       "      <th>Twashrooms</th>\n",
       "      <th>roof</th>\n",
       "      <th>Roof(Area)</th>\n",
       "      <th>Nfloors</th>\n",
       "      <th>Expected price</th>\n",
       "      <th>Grade</th>\n",
       "    </tr>\n",
       "  </thead>\n",
       "  <tbody>\n",
       "    <tr>\n",
       "      <th>0</th>\n",
       "      <td>339</td>\n",
       "      <td>6</td>\n",
       "      <td>5</td>\n",
       "      <td>4</td>\n",
       "      <td>6</td>\n",
       "      <td>0</td>\n",
       "      <td>0</td>\n",
       "      <td>2</td>\n",
       "      <td>3481</td>\n",
       "      <td>3</td>\n",
       "    </tr>\n",
       "    <tr>\n",
       "      <th>1</th>\n",
       "      <td>358</td>\n",
       "      <td>5</td>\n",
       "      <td>4</td>\n",
       "      <td>3</td>\n",
       "      <td>4</td>\n",
       "      <td>1</td>\n",
       "      <td>71</td>\n",
       "      <td>3</td>\n",
       "      <td>3510</td>\n",
       "      <td>3</td>\n",
       "    </tr>\n",
       "    <tr>\n",
       "      <th>2</th>\n",
       "      <td>324</td>\n",
       "      <td>7</td>\n",
       "      <td>5</td>\n",
       "      <td>4</td>\n",
       "      <td>5</td>\n",
       "      <td>1</td>\n",
       "      <td>101</td>\n",
       "      <td>5</td>\n",
       "      <td>3748</td>\n",
       "      <td>2</td>\n",
       "    </tr>\n",
       "    <tr>\n",
       "      <th>3</th>\n",
       "      <td>330</td>\n",
       "      <td>6</td>\n",
       "      <td>4</td>\n",
       "      <td>3</td>\n",
       "      <td>5</td>\n",
       "      <td>1</td>\n",
       "      <td>101</td>\n",
       "      <td>2</td>\n",
       "      <td>3134</td>\n",
       "      <td>3</td>\n",
       "    </tr>\n",
       "    <tr>\n",
       "      <th>4</th>\n",
       "      <td>320</td>\n",
       "      <td>7</td>\n",
       "      <td>4</td>\n",
       "      <td>4</td>\n",
       "      <td>5</td>\n",
       "      <td>0</td>\n",
       "      <td>0</td>\n",
       "      <td>3</td>\n",
       "      <td>3843</td>\n",
       "      <td>3</td>\n",
       "    </tr>\n",
       "    <tr>\n",
       "      <th>...</th>\n",
       "      <td>...</td>\n",
       "      <td>...</td>\n",
       "      <td>...</td>\n",
       "      <td>...</td>\n",
       "      <td>...</td>\n",
       "      <td>...</td>\n",
       "      <td>...</td>\n",
       "      <td>...</td>\n",
       "      <td>...</td>\n",
       "      <td>...</td>\n",
       "    </tr>\n",
       "    <tr>\n",
       "      <th>2995</th>\n",
       "      <td>341</td>\n",
       "      <td>9</td>\n",
       "      <td>6</td>\n",
       "      <td>5</td>\n",
       "      <td>7</td>\n",
       "      <td>1</td>\n",
       "      <td>95</td>\n",
       "      <td>5</td>\n",
       "      <td>4246</td>\n",
       "      <td>1</td>\n",
       "    </tr>\n",
       "    <tr>\n",
       "      <th>2996</th>\n",
       "      <td>292</td>\n",
       "      <td>9</td>\n",
       "      <td>8</td>\n",
       "      <td>7</td>\n",
       "      <td>8</td>\n",
       "      <td>1</td>\n",
       "      <td>116</td>\n",
       "      <td>7</td>\n",
       "      <td>3753</td>\n",
       "      <td>0</td>\n",
       "    </tr>\n",
       "    <tr>\n",
       "      <th>2997</th>\n",
       "      <td>328</td>\n",
       "      <td>7</td>\n",
       "      <td>4</td>\n",
       "      <td>3</td>\n",
       "      <td>5</td>\n",
       "      <td>0</td>\n",
       "      <td>0</td>\n",
       "      <td>5</td>\n",
       "      <td>3607</td>\n",
       "      <td>3</td>\n",
       "    </tr>\n",
       "    <tr>\n",
       "      <th>2998</th>\n",
       "      <td>293</td>\n",
       "      <td>9</td>\n",
       "      <td>7</td>\n",
       "      <td>7</td>\n",
       "      <td>8</td>\n",
       "      <td>0</td>\n",
       "      <td>0</td>\n",
       "      <td>7</td>\n",
       "      <td>4198</td>\n",
       "      <td>1</td>\n",
       "    </tr>\n",
       "    <tr>\n",
       "      <th>2999</th>\n",
       "      <td>343</td>\n",
       "      <td>7</td>\n",
       "      <td>6</td>\n",
       "      <td>6</td>\n",
       "      <td>8</td>\n",
       "      <td>0</td>\n",
       "      <td>0</td>\n",
       "      <td>5</td>\n",
       "      <td>4105</td>\n",
       "      <td>2</td>\n",
       "    </tr>\n",
       "  </tbody>\n",
       "</table>\n",
       "<p>3000 rows × 10 columns</p>\n",
       "</div>"
      ],
      "text/plain": [
       "      Area(total)  Trooms  Nbedrooms  Nbwashrooms  Twashrooms  roof  \\\n",
       "0             339       6          5            4           6     0   \n",
       "1             358       5          4            3           4     1   \n",
       "2             324       7          5            4           5     1   \n",
       "3             330       6          4            3           5     1   \n",
       "4             320       7          4            4           5     0   \n",
       "...           ...     ...        ...          ...         ...   ...   \n",
       "2995          341       9          6            5           7     1   \n",
       "2996          292       9          8            7           8     1   \n",
       "2997          328       7          4            3           5     0   \n",
       "2998          293       9          7            7           8     0   \n",
       "2999          343       7          6            6           8     0   \n",
       "\n",
       "      Roof(Area)  Nfloors  Expected price  Grade  \n",
       "0              0        2            3481      3  \n",
       "1             71        3            3510      3  \n",
       "2            101        5            3748      2  \n",
       "3            101        2            3134      3  \n",
       "4              0        3            3843      3  \n",
       "...          ...      ...             ...    ...  \n",
       "2995          95        5            4246      1  \n",
       "2996         116        7            3753      0  \n",
       "2997           0        5            3607      3  \n",
       "2998           0        7            4198      1  \n",
       "2999           0        5            4105      2  \n",
       "\n",
       "[3000 rows x 10 columns]"
      ]
     },
     "execution_count": 17,
     "metadata": {},
     "output_type": "execute_result"
    }
   ],
   "source": [
    "data.drop(columns=['Id','ANB','Lawn(Area)','API'],inplace=True) #dropping due to low correlation\n",
    "data"
   ]
  },
  {
   "cell_type": "markdown",
   "id": "e2c86f7b",
   "metadata": {},
   "source": [
    "#### Logistic Regression"
   ]
  },
  {
   "cell_type": "code",
   "execution_count": 18,
   "id": "b7c4313d",
   "metadata": {},
   "outputs": [],
   "source": [
    "#seperating dependent and independent column\n",
    "x=data.drop(columns='Grade').to_numpy()\n",
    "y=data['Grade'].to_numpy()"
   ]
  },
  {
   "cell_type": "code",
   "execution_count": 19,
   "id": "426a9fa8",
   "metadata": {},
   "outputs": [],
   "source": [
    "#splitting data\n",
    "cv = RepeatedStratifiedKFold(n_splits=3,n_repeats=3,random_state=1)\n",
    "for train, test in cv.split(x,y):\n",
    "  x_train, x_test=x[train],x[test]\n",
    "  y_train, y_test=y[train],y[test]"
   ]
  },
  {
   "cell_type": "code",
   "execution_count": 20,
   "id": "373dc281",
   "metadata": {},
   "outputs": [
    {
     "name": "stdout",
     "output_type": "stream",
     "text": [
      "(2000, 9)\n",
      "(1000, 9)\n",
      "(2000,)\n",
      "(1000,)\n"
     ]
    }
   ],
   "source": [
    "print(x_train.shape)\n",
    "print(x_test.shape)\n",
    "print(y_train.shape)\n",
    "print(y_test.shape)"
   ]
  },
  {
   "cell_type": "code",
   "execution_count": 21,
   "id": "71b036df",
   "metadata": {
    "scrolled": true
   },
   "outputs": [],
   "source": [
    "model1=LogisticRegression() #building model"
   ]
  },
  {
   "cell_type": "code",
   "execution_count": 22,
   "id": "f7533d61",
   "metadata": {},
   "outputs": [],
   "source": [
    "classifier1=model1.fit(x_train, y_train) #fitting model"
   ]
  },
  {
   "cell_type": "code",
   "execution_count": 23,
   "id": "0d1f1ee8",
   "metadata": {},
   "outputs": [
    {
     "data": {
      "text/plain": [
       "array([3, 3, 0, 3, 1, 3, 1, 3, 1, 3, 2, 2, 1, 0, 2, 2, 1, 3, 3, 3, 3, 2,\n",
       "       2, 3, 1, 2, 3, 3, 2, 2, 2, 2, 3, 1, 3, 3, 2, 3, 3, 3, 3, 3, 3, 3,\n",
       "       3, 3, 2, 3, 3, 3, 3, 3, 2, 1, 1, 3, 3, 3, 1, 3, 2, 1, 2, 2, 3, 0,\n",
       "       2, 3, 2, 2, 3, 3, 3, 3, 3, 3, 3, 0, 2, 3, 1, 1, 3, 3, 3, 3, 3, 2,\n",
       "       2, 2, 2, 3, 3, 3, 1, 2, 3, 3, 3, 1, 1, 3, 0, 1, 2, 2, 1, 3, 2, 3,\n",
       "       2, 3, 2, 0, 2, 3, 3, 2, 3, 3, 3, 1, 2, 3, 3, 3, 0, 2, 0, 3, 3, 3,\n",
       "       3, 0, 3, 3, 2, 0, 3, 3, 3, 2, 1, 2, 3, 3, 1, 1, 2, 2, 2, 1, 3, 2,\n",
       "       3, 3, 3, 3, 0, 2, 0, 2, 3, 3, 3, 0, 0, 0, 2, 2, 3, 2, 1, 2, 2, 3,\n",
       "       3, 3, 0, 0, 1, 0, 0, 0, 2, 3, 0, 0, 3, 3, 1, 3, 3, 3, 1, 0, 2, 1,\n",
       "       3, 3, 3, 2, 1, 3, 2, 0, 0, 1, 2, 2, 2, 2, 3, 3, 3, 3, 1, 3, 1, 0,\n",
       "       3, 3, 0, 2, 3, 3, 3, 3, 1, 1, 3, 0, 3, 2, 3, 0, 3, 3, 2, 3, 3, 2,\n",
       "       3, 1, 1, 0, 3, 3, 2, 1, 3, 3, 3, 2, 3, 3, 3, 2, 3, 3, 1, 1, 3, 0,\n",
       "       0, 1, 3, 1, 0, 3, 3, 3, 3, 3, 3, 1, 3, 3, 1, 3, 2, 3, 3, 2, 3, 0,\n",
       "       3, 3, 3, 2, 1, 1, 2, 3, 3, 2, 3, 3, 3, 3, 3, 3, 3, 2, 3, 1, 1, 2,\n",
       "       2, 3, 3, 3, 3, 3, 3, 3, 0, 3, 0, 2, 2, 1, 3, 1, 3, 3, 3, 3, 3, 2,\n",
       "       3, 2, 3, 3, 0, 3, 3, 3, 3, 2, 3, 2, 0, 2, 2, 0, 0, 3, 2, 2, 3, 3,\n",
       "       2, 3, 3, 2, 1, 3, 0, 2, 3, 1, 3, 1, 3, 3, 2, 2, 3, 2, 3, 3, 2, 3,\n",
       "       3, 3, 1, 3, 2, 2, 1, 2, 3, 2, 3, 3, 3, 3, 3, 3, 2, 3, 3, 1, 3, 2,\n",
       "       2, 2, 3, 3, 2, 2, 1, 3, 0, 1, 3, 3, 3, 1, 2, 3, 3, 3, 0, 1, 1, 3,\n",
       "       3, 3, 2, 3, 0, 2, 3, 2, 1, 3, 3, 2, 3, 0, 3, 2, 3, 3, 0, 3, 3, 3,\n",
       "       0, 3, 1, 3, 3, 3, 1, 1, 3, 3, 1, 0, 3, 2, 3, 3, 3, 1, 3, 0, 3, 2,\n",
       "       3, 3, 3, 3, 3, 3, 2, 3, 3, 0, 3, 0, 3, 1, 3, 3, 3, 3, 3, 3, 3, 2,\n",
       "       3, 1, 2, 0, 3, 0, 3, 1, 1, 3, 2, 0, 3, 0, 3, 3, 3, 1, 3, 3, 3, 3,\n",
       "       0, 2, 3, 3, 1, 2, 3, 2, 3, 3, 3, 2, 1, 3, 3, 0, 0, 0, 2, 3, 1, 1,\n",
       "       1, 2, 3, 3, 2, 1, 3, 3, 3, 3, 2, 3, 0, 1, 1, 3, 3, 2, 3, 3, 3, 3,\n",
       "       3, 1, 2, 3, 1, 1, 2, 3, 2, 3, 2, 3, 3, 2, 3, 2, 1, 1, 3, 3, 2, 3,\n",
       "       2, 3, 1, 2, 3, 3, 3, 3, 3, 3, 2, 0, 3, 3, 3, 2, 0, 1, 2, 3, 3, 1,\n",
       "       3, 3, 1, 2, 3, 2, 1, 2, 3, 1, 2, 3, 0, 3, 3, 3, 3, 0, 3, 1, 3, 3,\n",
       "       3, 1, 3, 3, 2, 3, 3, 3, 1, 3, 2, 2, 2, 2, 3, 3, 3, 3, 3, 2, 3, 0,\n",
       "       1, 2, 3, 1, 3, 3, 3, 3, 1, 3, 1, 1, 3, 0, 3, 0, 0, 3, 3, 3, 2, 3,\n",
       "       3, 1, 3, 3, 2, 3, 3, 3, 3, 1, 0, 1, 1, 3, 0, 2, 2, 1, 3, 1, 2, 3,\n",
       "       1, 2, 3, 3, 1, 0, 3, 1, 3, 3, 0, 3, 3, 2, 3, 3, 2, 3, 2, 0, 3, 2,\n",
       "       3, 3, 2, 0, 3, 1, 0, 2, 1, 0, 2, 3, 3, 3, 1, 1, 1, 3, 0, 1, 3, 1,\n",
       "       3, 1, 3, 2, 3, 0, 2, 3, 1, 2, 1, 3, 0, 1, 3, 3, 3, 3, 3, 1, 0, 1,\n",
       "       2, 3, 2, 3, 0, 1, 3, 2, 3, 3, 1, 3, 0, 3, 2, 1, 3, 1, 1, 3, 1, 3,\n",
       "       1, 3, 1, 3, 1, 2, 2, 3, 3, 3, 2, 3, 2, 2, 3, 1, 1, 3, 1, 2, 2, 0,\n",
       "       1, 1, 2, 2, 1, 3, 3, 1, 0, 2, 2, 2, 0, 3, 2, 3, 3, 1, 2, 1, 2, 2,\n",
       "       3, 3, 3, 3, 0, 0, 3, 2, 2, 0, 3, 3, 1, 1, 0, 2, 3, 2, 0, 2, 1, 1,\n",
       "       3, 1, 2, 3, 3, 1, 3, 3, 1, 3, 2, 1, 0, 1, 3, 3, 0, 3, 3, 2, 3, 3,\n",
       "       1, 3, 3, 2, 1, 3, 3, 3, 3, 2, 3, 3, 3, 3, 3, 3, 2, 3, 2, 1, 2, 2,\n",
       "       3, 1, 3, 3, 2, 2, 3, 3, 3, 3, 2, 3, 3, 3, 3, 1, 3, 3, 3, 3, 3, 2,\n",
       "       3, 3, 3, 0, 2, 3, 0, 3, 1, 1, 1, 1, 3, 1, 3, 2, 3, 3, 0, 3, 1, 3,\n",
       "       3, 3, 3, 2, 2, 2, 3, 2, 2, 1, 3, 0, 3, 2, 0, 0, 3, 3, 0, 3, 3, 0,\n",
       "       1, 3, 3, 0, 1, 0, 0, 3, 3, 1, 0, 3, 3, 1, 1, 2, 3, 3, 3, 3, 3, 2,\n",
       "       3, 3, 3, 3, 3, 2, 3, 3, 1, 3, 2, 3, 0, 3, 2, 2, 0, 3, 0, 2, 2, 2,\n",
       "       3, 2, 3, 3, 1, 2, 3, 3, 3, 3])"
      ]
     },
     "execution_count": 23,
     "metadata": {},
     "output_type": "execute_result"
    }
   ],
   "source": [
    "y1_pred=classifier1.predict(x_test) #predicting values\n",
    "y1_pred "
   ]
  },
  {
   "cell_type": "code",
   "execution_count": 24,
   "id": "e1ee323b",
   "metadata": {},
   "outputs": [],
   "source": [
    "scoring=['f1_weighted','accuracy','precision_weighted','recall_weighted']\n",
    "scores1 = cross_validate(model1, x, y, scoring=scoring, cv=cv) #model evaluation"
   ]
  },
  {
   "cell_type": "code",
   "execution_count": 25,
   "id": "a5826c81",
   "metadata": {},
   "outputs": [
    {
     "name": "stdout",
     "output_type": "stream",
     "text": [
      "Accuracy:0.5467777777777778\n",
      "F1-Score:0.5239093561710263\n",
      "Precision:0.5093979080262654\n",
      "Recall:0.5467777777777778\n"
     ]
    }
   ],
   "source": [
    "m1s1=(scores1['test_accuracy'])\n",
    "m1s2=(scores1['test_f1_weighted'])\n",
    "m1s3=(scores1['test_precision_weighted'])\n",
    "m1s4=(scores1['test_recall_weighted'])\n",
    "print(f'''Accuracy:{mean(m1s1)}\n",
    "F1-Score:{mean(m1s2)}\n",
    "Precision:{mean(m1s3)}\n",
    "Recall:{mean(m1s4)}''')"
   ]
  },
  {
   "cell_type": "markdown",
   "id": "ec0251b7",
   "metadata": {},
   "source": [
    "### Random forest classifier"
   ]
  },
  {
   "cell_type": "code",
   "execution_count": 26,
   "id": "c5979681",
   "metadata": {},
   "outputs": [],
   "source": [
    "from sklearn.ensemble import RandomForestClassifier\n",
    "from sklearn.model_selection import GridSearchCV\n"
   ]
  },
  {
   "cell_type": "code",
   "execution_count": 27,
   "id": "a0d9de80",
   "metadata": {},
   "outputs": [],
   "source": [
    "model2 = RandomForestClassifier() #building model"
   ]
  },
  {
   "cell_type": "code",
   "execution_count": 28,
   "id": "0189f941",
   "metadata": {},
   "outputs": [],
   "source": [
    "classifier2=model2.fit(x_train, y_train) #fitting model"
   ]
  },
  {
   "cell_type": "code",
   "execution_count": 29,
   "id": "55efa0d6",
   "metadata": {},
   "outputs": [
    {
     "data": {
      "text/plain": [
       "array([3, 3, 0, 4, 1, 3, 0, 3, 1, 3, 1, 1, 2, 0, 1, 0, 2, 3, 3, 3, 3, 3,\n",
       "       1, 3, 0, 2, 2, 4, 2, 2, 3, 2, 3, 0, 3, 3, 1, 3, 3, 3, 3, 2, 3, 3,\n",
       "       1, 4, 2, 3, 3, 3, 1, 3, 2, 2, 1, 3, 2, 3, 2, 3, 1, 1, 2, 1, 3, 0,\n",
       "       3, 3, 0, 3, 3, 1, 0, 3, 3, 2, 2, 0, 2, 3, 0, 0, 3, 3, 3, 3, 3, 0,\n",
       "       2, 3, 2, 3, 3, 3, 0, 2, 3, 2, 3, 1, 1, 3, 0, 0, 2, 1, 0, 3, 2, 3,\n",
       "       0, 2, 2, 1, 4, 3, 3, 2, 2, 2, 2, 1, 2, 3, 2, 4, 0, 1, 0, 2, 1, 3,\n",
       "       3, 2, 3, 3, 3, 1, 2, 3, 2, 1, 1, 2, 3, 3, 0, 1, 2, 2, 1, 1, 3, 1,\n",
       "       3, 3, 3, 3, 0, 3, 1, 3, 3, 3, 3, 0, 0, 0, 1, 3, 3, 1, 2, 0, 2, 3,\n",
       "       3, 2, 0, 1, 2, 2, 0, 1, 2, 3, 1, 0, 3, 3, 1, 2, 3, 2, 1, 0, 1, 3,\n",
       "       3, 3, 3, 2, 1, 1, 3, 0, 0, 1, 0, 2, 1, 2, 3, 3, 3, 3, 1, 3, 1, 2,\n",
       "       2, 3, 3, 0, 3, 3, 3, 3, 2, 0, 3, 0, 3, 2, 3, 0, 3, 3, 1, 3, 3, 2,\n",
       "       4, 1, 2, 2, 3, 2, 1, 0, 3, 2, 3, 0, 3, 2, 2, 1, 3, 2, 0, 0, 2, 0,\n",
       "       1, 0, 3, 0, 0, 3, 1, 3, 3, 3, 3, 0, 3, 3, 1, 3, 1, 3, 1, 0, 3, 0,\n",
       "       2, 3, 3, 0, 1, 2, 1, 3, 3, 2, 3, 3, 2, 3, 3, 3, 2, 2, 3, 3, 1, 2,\n",
       "       2, 2, 3, 3, 2, 3, 2, 3, 1, 3, 0, 1, 1, 1, 3, 0, 2, 3, 3, 3, 2, 3,\n",
       "       0, 2, 2, 2, 1, 2, 3, 3, 3, 2, 3, 0, 0, 2, 3, 1, 0, 3, 0, 2, 3, 4,\n",
       "       2, 3, 3, 3, 0, 3, 0, 1, 3, 0, 3, 2, 4, 3, 2, 2, 2, 2, 3, 1, 3, 3,\n",
       "       3, 3, 2, 3, 2, 0, 1, 2, 3, 2, 2, 3, 2, 3, 3, 3, 0, 3, 2, 2, 3, 3,\n",
       "       1, 1, 3, 4, 1, 3, 2, 3, 0, 1, 3, 3, 3, 1, 1, 3, 1, 3, 0, 2, 1, 3,\n",
       "       1, 3, 2, 3, 1, 3, 3, 3, 0, 3, 3, 1, 4, 0, 3, 2, 2, 2, 1, 2, 2, 3,\n",
       "       0, 3, 2, 3, 2, 2, 0, 1, 3, 3, 2, 1, 3, 1, 1, 3, 3, 2, 3, 1, 3, 2,\n",
       "       2, 3, 2, 3, 3, 3, 3, 3, 3, 1, 3, 0, 3, 1, 3, 3, 3, 3, 3, 3, 3, 1,\n",
       "       3, 1, 3, 1, 3, 2, 2, 3, 1, 3, 3, 0, 3, 1, 2, 3, 3, 1, 3, 3, 3, 3,\n",
       "       0, 2, 3, 3, 0, 3, 3, 1, 3, 2, 3, 3, 2, 3, 3, 1, 0, 0, 0, 2, 0, 1,\n",
       "       0, 3, 3, 3, 2, 0, 3, 2, 3, 3, 1, 3, 0, 2, 2, 3, 3, 0, 2, 3, 2, 3,\n",
       "       2, 2, 2, 3, 0, 3, 1, 3, 2, 1, 3, 2, 2, 1, 3, 2, 1, 0, 3, 3, 3, 2,\n",
       "       1, 4, 0, 2, 3, 3, 2, 2, 3, 3, 3, 2, 3, 3, 2, 1, 1, 2, 3, 3, 2, 2,\n",
       "       3, 3, 3, 3, 3, 1, 3, 3, 3, 0, 1, 3, 1, 3, 2, 3, 2, 2, 3, 1, 3, 2,\n",
       "       2, 1, 2, 3, 1, 1, 3, 2, 0, 3, 3, 2, 2, 2, 3, 3, 3, 3, 4, 2, 3, 0,\n",
       "       0, 3, 2, 2, 3, 3, 2, 3, 0, 3, 2, 1, 3, 0, 3, 1, 0, 3, 3, 2, 3, 3,\n",
       "       3, 1, 2, 3, 2, 2, 3, 2, 3, 2, 0, 0, 3, 3, 1, 2, 1, 1, 3, 0, 2, 3,\n",
       "       2, 0, 3, 3, 1, 0, 3, 0, 3, 3, 0, 3, 3, 3, 3, 3, 0, 3, 2, 1, 3, 2,\n",
       "       4, 3, 0, 0, 3, 1, 0, 2, 1, 0, 2, 2, 3, 3, 3, 2, 1, 3, 0, 2, 2, 1,\n",
       "       3, 2, 1, 1, 3, 2, 1, 3, 0, 1, 1, 3, 2, 2, 2, 2, 3, 3, 2, 0, 1, 0,\n",
       "       1, 3, 1, 3, 0, 0, 3, 0, 3, 2, 2, 3, 0, 3, 3, 0, 2, 0, 1, 2, 0, 2,\n",
       "       2, 3, 1, 1, 0, 0, 1, 3, 4, 3, 3, 3, 2, 0, 3, 0, 1, 2, 1, 1, 1, 0,\n",
       "       1, 3, 2, 2, 1, 3, 1, 2, 2, 3, 1, 3, 1, 3, 1, 2, 3, 1, 1, 1, 1, 0,\n",
       "       3, 3, 3, 2, 1, 0, 3, 2, 0, 0, 3, 3, 2, 2, 0, 1, 3, 0, 1, 2, 2, 1,\n",
       "       3, 0, 1, 3, 2, 0, 3, 3, 1, 3, 0, 1, 2, 2, 4, 2, 2, 3, 3, 2, 3, 3,\n",
       "       1, 3, 3, 3, 1, 3, 3, 3, 2, 2, 2, 2, 2, 3, 3, 2, 2, 3, 2, 1, 3, 3,\n",
       "       3, 1, 2, 2, 2, 1, 3, 3, 2, 3, 0, 3, 3, 2, 3, 0, 3, 3, 2, 2, 3, 3,\n",
       "       2, 3, 3, 0, 0, 3, 0, 3, 0, 1, 1, 1, 3, 2, 3, 3, 3, 3, 0, 3, 0, 3,\n",
       "       3, 3, 2, 0, 3, 1, 3, 2, 2, 1, 2, 1, 3, 2, 0, 1, 1, 3, 1, 3, 3, 2,\n",
       "       3, 3, 2, 1, 0, 0, 0, 2, 3, 1, 0, 3, 3, 1, 1, 1, 4, 4, 3, 3, 2, 0,\n",
       "       3, 3, 3, 3, 3, 2, 3, 3, 0, 2, 2, 3, 1, 3, 0, 3, 2, 1, 1, 3, 2, 2,\n",
       "       3, 2, 2, 3, 1, 2, 2, 3, 3, 3])"
      ]
     },
     "execution_count": 29,
     "metadata": {},
     "output_type": "execute_result"
    }
   ],
   "source": [
    "y2_pred=classifier2.predict(x_test) #predicting values\n",
    "y2_pred "
   ]
  },
  {
   "cell_type": "code",
   "execution_count": 30,
   "id": "8e3a6fc2",
   "metadata": {},
   "outputs": [],
   "source": [
    "scores2 = cross_validate(model2, x, y, scoring=scoring, cv=cv) #model evaluation"
   ]
  },
  {
   "cell_type": "code",
   "execution_count": 31,
   "id": "97b36d61",
   "metadata": {},
   "outputs": [
    {
     "name": "stdout",
     "output_type": "stream",
     "text": [
      "Accuracy:0.868111111111111\n",
      "F1-Score:0.8649488267351102\n",
      "Precision:0.8646091675170191\n",
      "Recall:0.868111111111111\n"
     ]
    }
   ],
   "source": [
    "m2s1=(scores2['test_accuracy'])\n",
    "m2s2=(scores2['test_f1_weighted'])\n",
    "m2s3=(scores2['test_precision_weighted'])\n",
    "m2s4=(scores2['test_recall_weighted'])\n",
    "print(f'''Accuracy:{mean(m2s1)}\n",
    "F1-Score:{mean(m2s2)}\n",
    "Precision:{mean(m2s3)}\n",
    "Recall:{mean(m2s4)}''')"
   ]
  },
  {
   "cell_type": "markdown",
   "id": "37fd56d2",
   "metadata": {},
   "source": [
    "#### ADA Boost Classiifier"
   ]
  },
  {
   "cell_type": "code",
   "execution_count": 32,
   "id": "5e0ca319",
   "metadata": {},
   "outputs": [],
   "source": [
    "model3 = AdaBoostClassifier() #building model"
   ]
  },
  {
   "cell_type": "code",
   "execution_count": 33,
   "id": "bc48c448",
   "metadata": {},
   "outputs": [],
   "source": [
    "classifier3=model3.fit(x_train, y_train) #fitting model"
   ]
  },
  {
   "cell_type": "code",
   "execution_count": 34,
   "id": "baa6e166",
   "metadata": {},
   "outputs": [
    {
     "data": {
      "text/plain": [
       "array([3, 3, 1, 4, 1, 3, 1, 3, 1, 4, 1, 1, 2, 1, 1, 1, 1, 4, 4, 3, 3, 3,\n",
       "       1, 3, 1, 2, 2, 4, 2, 3, 3, 2, 4, 1, 4, 3, 1, 3, 3, 4, 3, 3, 3, 4,\n",
       "       1, 4, 2, 4, 4, 3, 1, 3, 1, 1, 1, 3, 2, 3, 2, 3, 1, 1, 3, 1, 4, 1,\n",
       "       3, 4, 1, 3, 3, 1, 1, 4, 3, 3, 3, 1, 2, 3, 1, 1, 3, 4, 4, 4, 3, 1,\n",
       "       2, 3, 3, 3, 3, 3, 1, 2, 3, 2, 3, 1, 1, 3, 1, 1, 2, 1, 1, 3, 2, 4,\n",
       "       1, 3, 2, 1, 3, 3, 3, 3, 2, 2, 3, 1, 2, 3, 3, 4, 1, 1, 1, 2, 1, 3,\n",
       "       3, 2, 3, 3, 3, 1, 3, 3, 2, 1, 1, 2, 3, 3, 1, 1, 2, 1, 1, 1, 4, 1,\n",
       "       4, 3, 4, 3, 1, 3, 1, 3, 3, 3, 4, 1, 1, 1, 1, 2, 3, 1, 3, 1, 2, 3,\n",
       "       3, 3, 1, 1, 2, 2, 1, 1, 2, 4, 1, 1, 3, 3, 1, 3, 3, 2, 1, 1, 1, 3,\n",
       "       4, 3, 4, 1, 1, 1, 3, 1, 1, 1, 1, 2, 1, 3, 4, 4, 3, 3, 1, 3, 1, 1,\n",
       "       2, 3, 2, 1, 3, 4, 3, 4, 1, 1, 3, 1, 3, 3, 4, 1, 4, 4, 1, 3, 3, 2,\n",
       "       4, 1, 2, 1, 3, 2, 1, 1, 3, 2, 4, 1, 3, 1, 3, 1, 4, 3, 1, 1, 3, 1,\n",
       "       1, 1, 3, 1, 1, 4, 1, 4, 3, 4, 4, 1, 4, 3, 1, 4, 1, 3, 1, 1, 3, 1,\n",
       "       3, 3, 3, 1, 1, 2, 1, 4, 3, 3, 4, 3, 1, 4, 3, 3, 3, 1, 3, 3, 1, 2,\n",
       "       1, 1, 4, 3, 2, 3, 3, 4, 1, 3, 1, 1, 1, 2, 3, 1, 2, 4, 3, 3, 3, 3,\n",
       "       1, 3, 3, 3, 1, 3, 4, 4, 4, 1, 3, 1, 1, 2, 3, 1, 1, 3, 1, 3, 4, 3,\n",
       "       3, 3, 4, 3, 1, 4, 1, 1, 3, 1, 3, 3, 4, 3, 1, 2, 3, 3, 3, 1, 3, 3,\n",
       "       3, 3, 3, 4, 2, 1, 2, 2, 3, 2, 2, 3, 2, 4, 3, 4, 1, 3, 3, 2, 3, 3,\n",
       "       1, 1, 3, 4, 1, 3, 1, 4, 1, 1, 3, 3, 3, 1, 1, 3, 1, 3, 1, 2, 1, 3,\n",
       "       1, 4, 2, 3, 1, 3, 3, 3, 1, 4, 3, 1, 4, 1, 3, 3, 2, 3, 1, 2, 2, 3,\n",
       "       1, 3, 1, 3, 2, 2, 1, 1, 4, 3, 1, 1, 3, 1, 1, 3, 3, 1, 3, 1, 3, 3,\n",
       "       3, 3, 3, 4, 3, 3, 3, 3, 4, 1, 3, 1, 3, 1, 3, 3, 3, 4, 3, 4, 3, 1,\n",
       "       3, 1, 3, 1, 4, 1, 3, 3, 1, 4, 3, 1, 3, 1, 2, 3, 3, 1, 3, 3, 3, 3,\n",
       "       1, 3, 3, 3, 1, 3, 3, 1, 3, 3, 3, 3, 2, 4, 3, 1, 1, 1, 1, 2, 1, 1,\n",
       "       1, 3, 3, 4, 3, 1, 3, 2, 3, 3, 1, 3, 1, 2, 1, 3, 3, 1, 3, 3, 2, 4,\n",
       "       2, 2, 2, 3, 1, 2, 1, 4, 3, 1, 3, 1, 3, 1, 4, 3, 2, 1, 3, 3, 3, 2,\n",
       "       1, 4, 1, 2, 3, 3, 3, 3, 3, 3, 3, 1, 3, 3, 3, 1, 1, 2, 3, 3, 2, 2,\n",
       "       3, 4, 3, 4, 3, 1, 3, 3, 3, 1, 1, 3, 1, 4, 2, 3, 2, 1, 3, 1, 3, 3,\n",
       "       3, 1, 3, 3, 1, 1, 3, 3, 1, 3, 3, 2, 3, 3, 4, 4, 3, 3, 4, 3, 3, 1,\n",
       "       1, 3, 3, 2, 3, 3, 3, 3, 1, 3, 3, 1, 3, 1, 4, 1, 1, 3, 3, 3, 3, 4,\n",
       "       3, 1, 3, 4, 3, 1, 3, 2, 3, 1, 1, 1, 3, 3, 1, 2, 2, 2, 3, 1, 2, 3,\n",
       "       2, 1, 4, 3, 1, 1, 3, 1, 4, 4, 1, 4, 3, 3, 3, 4, 1, 4, 1, 1, 3, 2,\n",
       "       4, 3, 1, 1, 3, 1, 1, 3, 1, 1, 3, 3, 4, 3, 3, 2, 1, 3, 1, 2, 2, 1,\n",
       "       3, 2, 1, 1, 3, 2, 1, 3, 1, 2, 1, 3, 1, 2, 2, 3, 4, 3, 3, 1, 1, 1,\n",
       "       1, 3, 2, 3, 1, 1, 3, 1, 3, 2, 1, 3, 1, 3, 2, 1, 3, 1, 1, 2, 1, 3,\n",
       "       1, 4, 1, 1, 1, 1, 1, 4, 3, 3, 4, 4, 3, 1, 3, 1, 1, 3, 1, 1, 1, 1,\n",
       "       1, 3, 2, 2, 1, 3, 2, 1, 2, 3, 1, 3, 1, 3, 1, 3, 4, 1, 1, 1, 1, 1,\n",
       "       4, 3, 4, 2, 1, 1, 3, 2, 1, 1, 4, 4, 3, 1, 1, 1, 4, 1, 1, 2, 1, 1,\n",
       "       3, 1, 1, 4, 3, 1, 3, 4, 1, 3, 1, 2, 2, 2, 4, 3, 2, 4, 4, 1, 3, 3,\n",
       "       1, 3, 3, 3, 1, 3, 3, 3, 3, 1, 2, 2, 3, 3, 4, 1, 3, 3, 3, 1, 3, 3,\n",
       "       3, 1, 2, 3, 1, 1, 3, 3, 3, 3, 1, 3, 3, 3, 3, 1, 4, 3, 3, 3, 4, 3,\n",
       "       2, 3, 4, 1, 1, 3, 1, 3, 1, 1, 1, 1, 4, 2, 4, 3, 3, 4, 1, 3, 1, 3,\n",
       "       4, 3, 2, 1, 3, 1, 3, 2, 3, 1, 3, 1, 3, 2, 1, 1, 1, 3, 1, 3, 3, 1,\n",
       "       3, 3, 2, 1, 1, 1, 1, 3, 3, 1, 1, 3, 3, 1, 2, 1, 4, 4, 4, 3, 3, 1,\n",
       "       3, 3, 3, 3, 3, 2, 4, 2, 1, 3, 3, 4, 1, 3, 1, 4, 2, 1, 1, 3, 3, 1,\n",
       "       4, 3, 2, 3, 1, 2, 2, 3, 4, 3])"
      ]
     },
     "execution_count": 34,
     "metadata": {},
     "output_type": "execute_result"
    }
   ],
   "source": [
    "y3_pred=classifier3.predict(x_test) #predicting values\n",
    "y3_pred "
   ]
  },
  {
   "cell_type": "code",
   "execution_count": 35,
   "id": "45931e6d",
   "metadata": {},
   "outputs": [],
   "source": [
    "scores3 = cross_validate(model3, x, y, scoring=scoring, cv=cv) #model evaluation"
   ]
  },
  {
   "cell_type": "code",
   "execution_count": 36,
   "id": "f2c5fdba",
   "metadata": {},
   "outputs": [
    {
     "name": "stdout",
     "output_type": "stream",
     "text": [
      "Accuracy:0.6242222222222222\n",
      "F1-Score:0.6000274267374924\n",
      "Precision:0.6281635304370883\n",
      "Recall:0.6242222222222222\n"
     ]
    }
   ],
   "source": [
    "m3s1=(scores3['test_accuracy'])\n",
    "m3s2=(scores3['test_f1_weighted'])\n",
    "m3s3=(scores3['test_precision_weighted'])\n",
    "m3s4=(scores3['test_recall_weighted'])\n",
    "print(f'''Accuracy:{mean(m3s1)}\n",
    "F1-Score:{mean(m3s2)}\n",
    "Precision:{mean(m3s3)}\n",
    "Recall:{mean(m3s4)}''')"
   ]
  },
  {
   "cell_type": "markdown",
   "id": "a117f19c",
   "metadata": {},
   "source": [
    "#### Stacking"
   ]
  },
  {
   "cell_type": "code",
   "execution_count": 37,
   "id": "5c65f5ed",
   "metadata": {},
   "outputs": [],
   "source": [
    "estimator=[('lr',LogisticRegression()),('knn',KNeighborsClassifier()),('tree',DecisionTreeClassifier()),('svm',SVC()),('bayes', GaussianNB())]\n",
    "final_estimators=LogisticRegression()\n",
    "model4 = StackingClassifier(estimators=estimator, final_estimator=final_estimators, cv=3) #building model"
   ]
  },
  {
   "cell_type": "code",
   "execution_count": 38,
   "id": "b6f17c5d",
   "metadata": {},
   "outputs": [],
   "source": [
    "classifier4=model4.fit(x_train, y_train) #fitting model"
   ]
  },
  {
   "cell_type": "code",
   "execution_count": 39,
   "id": "5c9b6178",
   "metadata": {},
   "outputs": [
    {
     "data": {
      "text/plain": [
       "array([3, 3, 0, 4, 1, 3, 0, 3, 1, 3, 1, 1, 2, 0, 1, 0, 2, 3, 3, 3, 3, 3,\n",
       "       1, 3, 0, 2, 1, 4, 2, 2, 3, 2, 3, 0, 3, 3, 1, 3, 2, 3, 2, 2, 3, 3,\n",
       "       1, 4, 2, 3, 3, 3, 1, 3, 1, 2, 1, 3, 2, 3, 1, 3, 1, 1, 3, 0, 4, 0,\n",
       "       3, 3, 1, 3, 3, 1, 1, 3, 3, 2, 2, 0, 2, 3, 0, 0, 3, 3, 3, 3, 3, 0,\n",
       "       2, 3, 2, 3, 3, 3, 0, 2, 3, 2, 3, 1, 1, 3, 0, 1, 2, 1, 0, 3, 2, 3,\n",
       "       0, 2, 2, 1, 3, 3, 3, 2, 2, 2, 2, 1, 2, 3, 2, 3, 0, 2, 0, 2, 1, 3,\n",
       "       3, 2, 3, 3, 3, 1, 2, 3, 2, 1, 1, 2, 3, 3, 0, 1, 1, 2, 1, 2, 3, 1,\n",
       "       3, 3, 3, 3, 0, 2, 0, 3, 3, 3, 3, 0, 0, 0, 1, 3, 3, 1, 2, 0, 2, 3,\n",
       "       3, 3, 0, 1, 2, 2, 0, 1, 2, 3, 1, 0, 3, 3, 1, 3, 3, 3, 1, 0, 1, 3,\n",
       "       3, 3, 3, 2, 0, 1, 3, 0, 0, 1, 1, 2, 1, 2, 3, 3, 3, 3, 1, 3, 1, 2,\n",
       "       2, 3, 2, 0, 3, 3, 3, 3, 2, 0, 3, 0, 3, 2, 3, 0, 3, 3, 1, 3, 3, 2,\n",
       "       3, 1, 2, 2, 3, 2, 1, 0, 3, 2, 3, 0, 3, 2, 2, 1, 3, 2, 0, 0, 2, 0,\n",
       "       1, 0, 3, 0, 0, 3, 1, 3, 3, 3, 3, 0, 3, 3, 1, 3, 1, 2, 1, 1, 2, 0,\n",
       "       3, 3, 3, 0, 0, 2, 1, 3, 3, 2, 3, 3, 2, 3, 3, 3, 2, 2, 3, 3, 1, 2,\n",
       "       2, 2, 3, 2, 1, 3, 3, 3, 1, 3, 0, 1, 1, 1, 3, 0, 2, 3, 3, 3, 2, 3,\n",
       "       0, 2, 2, 2, 1, 2, 3, 3, 3, 2, 3, 0, 0, 2, 3, 1, 0, 3, 0, 2, 3, 3,\n",
       "       2, 3, 3, 3, 1, 3, 0, 1, 3, 0, 2, 2, 4, 3, 2, 2, 2, 2, 3, 1, 2, 3,\n",
       "       3, 3, 2, 3, 2, 0, 1, 2, 3, 2, 2, 3, 2, 3, 3, 3, 0, 3, 3, 3, 3, 3,\n",
       "       1, 1, 3, 3, 1, 3, 2, 3, 0, 1, 3, 3, 3, 1, 1, 2, 1, 3, 1, 2, 1, 3,\n",
       "       1, 3, 2, 3, 1, 3, 3, 3, 0, 3, 2, 1, 3, 0, 3, 2, 2, 2, 1, 2, 3, 3,\n",
       "       0, 3, 2, 3, 2, 3, 0, 1, 3, 3, 2, 1, 3, 1, 1, 3, 3, 2, 3, 1, 3, 2,\n",
       "       1, 3, 2, 3, 3, 3, 3, 3, 3, 1, 3, 0, 3, 1, 3, 3, 3, 3, 3, 3, 3, 1,\n",
       "       3, 1, 3, 1, 3, 2, 2, 3, 1, 3, 3, 0, 3, 1, 2, 3, 3, 1, 3, 3, 3, 3,\n",
       "       0, 2, 3, 3, 0, 3, 3, 1, 3, 3, 3, 3, 2, 3, 3, 1, 0, 0, 0, 2, 0, 1,\n",
       "       0, 3, 3, 4, 2, 0, 3, 2, 3, 3, 1, 3, 0, 2, 2, 3, 3, 0, 3, 3, 1, 3,\n",
       "       2, 2, 2, 3, 0, 2, 2, 3, 2, 1, 3, 1, 2, 1, 3, 2, 1, 0, 3, 3, 2, 2,\n",
       "       1, 4, 0, 2, 3, 3, 3, 3, 3, 3, 3, 2, 3, 3, 2, 1, 1, 2, 3, 3, 2, 2,\n",
       "       3, 3, 3, 3, 3, 1, 2, 3, 3, 0, 1, 3, 1, 3, 2, 3, 2, 1, 3, 1, 3, 2,\n",
       "       2, 1, 2, 3, 2, 1, 3, 3, 0, 3, 3, 2, 2, 2, 3, 3, 3, 3, 4, 2, 3, 0,\n",
       "       0, 3, 2, 2, 3, 3, 2, 2, 0, 3, 3, 1, 3, 0, 3, 1, 0, 2, 3, 2, 3, 3,\n",
       "       3, 1, 2, 3, 2, 2, 3, 2, 3, 2, 0, 0, 3, 3, 2, 2, 2, 2, 3, 0, 2, 3,\n",
       "       2, 1, 3, 3, 1, 0, 3, 0, 3, 3, 0, 3, 3, 3, 3, 3, 0, 3, 1, 1, 3, 2,\n",
       "       4, 3, 0, 1, 3, 1, 0, 2, 2, 0, 2, 2, 3, 3, 3, 2, 1, 3, 0, 2, 2, 1,\n",
       "       3, 2, 1, 1, 3, 2, 1, 3, 0, 1, 1, 3, 1, 1, 2, 3, 3, 3, 2, 0, 1, 0,\n",
       "       1, 3, 2, 3, 0, 0, 3, 0, 2, 2, 2, 3, 0, 3, 2, 0, 2, 0, 1, 2, 0, 2,\n",
       "       1, 3, 1, 1, 0, 0, 1, 3, 3, 3, 3, 3, 2, 0, 3, 0, 1, 2, 1, 1, 1, 0,\n",
       "       1, 3, 2, 2, 1, 3, 1, 2, 2, 3, 1, 3, 0, 3, 1, 2, 3, 1, 1, 1, 1, 0,\n",
       "       3, 3, 3, 2, 1, 0, 3, 2, 0, 0, 3, 3, 2, 2, 0, 1, 3, 0, 1, 2, 2, 1,\n",
       "       3, 0, 1, 3, 2, 0, 3, 3, 1, 3, 0, 2, 2, 2, 4, 3, 2, 3, 3, 1, 3, 3,\n",
       "       1, 3, 3, 3, 1, 3, 3, 2, 2, 2, 2, 2, 3, 3, 3, 2, 2, 3, 3, 1, 3, 3,\n",
       "       3, 2, 2, 2, 1, 1, 3, 3, 2, 3, 0, 3, 3, 2, 3, 0, 3, 3, 2, 3, 3, 3,\n",
       "       2, 3, 3, 0, 0, 3, 0, 3, 0, 0, 1, 1, 3, 2, 3, 3, 3, 3, 0, 3, 0, 3,\n",
       "       3, 3, 2, 0, 3, 1, 3, 2, 2, 1, 2, 0, 3, 2, 1, 1, 1, 3, 1, 3, 3, 2,\n",
       "       2, 3, 2, 1, 0, 0, 0, 2, 3, 1, 0, 3, 3, 1, 1, 1, 3, 4, 3, 3, 2, 0,\n",
       "       2, 3, 3, 3, 3, 2, 3, 2, 0, 3, 2, 3, 1, 2, 0, 3, 2, 1, 1, 3, 2, 1,\n",
       "       3, 2, 2, 3, 1, 2, 2, 3, 3, 3])"
      ]
     },
     "execution_count": 39,
     "metadata": {},
     "output_type": "execute_result"
    }
   ],
   "source": [
    "y4_pred=classifier4.predict(x_test) #predicting values\n",
    "y4_pred "
   ]
  },
  {
   "cell_type": "code",
   "execution_count": 40,
   "id": "33e6823a",
   "metadata": {},
   "outputs": [],
   "source": [
    "scores4 = cross_validate(model4, x, y, scoring=scoring, cv=cv) #model evaluation"
   ]
  },
  {
   "cell_type": "code",
   "execution_count": 41,
   "id": "4a17a122",
   "metadata": {},
   "outputs": [
    {
     "name": "stdout",
     "output_type": "stream",
     "text": [
      "Accuracy:0.8407777777777777\n",
      "F1-Score:0.8384150521864758\n",
      "Precision:0.8391084442286006\n",
      "Recall:0.8407777777777777\n"
     ]
    }
   ],
   "source": [
    "m4s1=(scores4['test_accuracy'])\n",
    "m4s2=(scores4['test_f1_weighted'])\n",
    "m4s3=(scores4['test_precision_weighted'])\n",
    "m4s4=(scores4['test_recall_weighted'])\n",
    "print(f'''Accuracy:{mean(m4s1)}\n",
    "F1-Score:{mean(m4s2)}\n",
    "Precision:{mean(m4s3)}\n",
    "Recall:{mean(m4s4)}''')"
   ]
  },
  {
   "cell_type": "markdown",
   "id": "2affde35",
   "metadata": {},
   "source": [
    "#### Comparison for all models "
   ]
  },
  {
   "cell_type": "code",
   "execution_count": 42,
   "id": "01eba420",
   "metadata": {},
   "outputs": [
    {
     "data": {
      "text/html": [
       "<div>\n",
       "<style scoped>\n",
       "    .dataframe tbody tr th:only-of-type {\n",
       "        vertical-align: middle;\n",
       "    }\n",
       "\n",
       "    .dataframe tbody tr th {\n",
       "        vertical-align: top;\n",
       "    }\n",
       "\n",
       "    .dataframe thead th {\n",
       "        text-align: right;\n",
       "    }\n",
       "</style>\n",
       "<table border=\"1\" class=\"dataframe\">\n",
       "  <thead>\n",
       "    <tr style=\"text-align: right;\">\n",
       "      <th></th>\n",
       "      <th>Model</th>\n",
       "      <th>Accuracy</th>\n",
       "      <th>F1-Score</th>\n",
       "      <th>Precison</th>\n",
       "      <th>Recall</th>\n",
       "    </tr>\n",
       "  </thead>\n",
       "  <tbody>\n",
       "    <tr>\n",
       "      <th>0</th>\n",
       "      <td>Logistic Regression</td>\n",
       "      <td>0.546778</td>\n",
       "      <td>0.523909</td>\n",
       "      <td>0.509398</td>\n",
       "      <td>0.546778</td>\n",
       "    </tr>\n",
       "    <tr>\n",
       "      <th>1</th>\n",
       "      <td>Random Forest Classifier</td>\n",
       "      <td>0.868111</td>\n",
       "      <td>0.864949</td>\n",
       "      <td>0.864609</td>\n",
       "      <td>0.868111</td>\n",
       "    </tr>\n",
       "    <tr>\n",
       "      <th>2</th>\n",
       "      <td>ADA Boost Classifier</td>\n",
       "      <td>0.624222</td>\n",
       "      <td>0.600027</td>\n",
       "      <td>0.628164</td>\n",
       "      <td>0.624222</td>\n",
       "    </tr>\n",
       "    <tr>\n",
       "      <th>3</th>\n",
       "      <td>Stacking</td>\n",
       "      <td>0.840778</td>\n",
       "      <td>0.838415</td>\n",
       "      <td>0.839108</td>\n",
       "      <td>0.840778</td>\n",
       "    </tr>\n",
       "  </tbody>\n",
       "</table>\n",
       "</div>"
      ],
      "text/plain": [
       "                      Model  Accuracy  F1-Score  Precison    Recall\n",
       "0       Logistic Regression  0.546778  0.523909  0.509398  0.546778\n",
       "1  Random Forest Classifier  0.868111  0.864949  0.864609  0.868111\n",
       "2      ADA Boost Classifier  0.624222  0.600027  0.628164  0.624222\n",
       "3                  Stacking  0.840778  0.838415  0.839108  0.840778"
      ]
     },
     "execution_count": 42,
     "metadata": {},
     "output_type": "execute_result"
    }
   ],
   "source": [
    "#tabulation\n",
    "comp=pd.DataFrame()\n",
    "comp['Model']=['Logistic Regression','Random Forest Classifier','ADA Boost Classifier','Stacking']\n",
    "comp['Accuracy']=[mean(m1s1),mean(m2s1),mean(m3s1),mean(m4s1)]\n",
    "comp['F1-Score']=[mean(m1s2),mean(m2s2),mean(m3s2),mean(m4s2)]\n",
    "comp['Precison']=[mean(m1s3),mean(m2s3),mean(m3s3),mean(m4s3)]\n",
    "comp['Recall']=[mean(m1s4),mean(m2s4),mean(m3s4),mean(m4s4)]\n",
    "comp"
   ]
  },
  {
   "cell_type": "markdown",
   "id": "cf4c08cb",
   "metadata": {},
   "source": [
    "#### Comparision for both models "
   ]
  },
  {
   "cell_type": "code",
   "execution_count": 43,
   "id": "1567ba63",
   "metadata": {},
   "outputs": [
    {
     "data": {
      "text/html": [
       "<div>\n",
       "<style scoped>\n",
       "    .dataframe tbody tr th:only-of-type {\n",
       "        vertical-align: middle;\n",
       "    }\n",
       "\n",
       "    .dataframe tbody tr th {\n",
       "        vertical-align: top;\n",
       "    }\n",
       "\n",
       "    .dataframe thead th {\n",
       "        text-align: right;\n",
       "    }\n",
       "</style>\n",
       "<table border=\"1\" class=\"dataframe\">\n",
       "  <thead>\n",
       "    <tr style=\"text-align: right;\">\n",
       "      <th></th>\n",
       "      <th>Model</th>\n",
       "      <th>Accuracy</th>\n",
       "      <th>F1-Score</th>\n",
       "      <th>Precison</th>\n",
       "      <th>Recall</th>\n",
       "    </tr>\n",
       "  </thead>\n",
       "  <tbody>\n",
       "    <tr>\n",
       "      <th>0</th>\n",
       "      <td>Logistic Regression</td>\n",
       "      <td>0.546778</td>\n",
       "      <td>0.523909</td>\n",
       "      <td>0.509398</td>\n",
       "      <td>0.546778</td>\n",
       "    </tr>\n",
       "    <tr>\n",
       "      <th>1</th>\n",
       "      <td>Random Forest Classifier</td>\n",
       "      <td>0.868111</td>\n",
       "      <td>0.864949</td>\n",
       "      <td>0.864609</td>\n",
       "      <td>0.868111</td>\n",
       "    </tr>\n",
       "    <tr>\n",
       "      <th>2</th>\n",
       "      <td>ADA Boost Classifier</td>\n",
       "      <td>0.624222</td>\n",
       "      <td>0.600027</td>\n",
       "      <td>0.628164</td>\n",
       "      <td>0.624222</td>\n",
       "    </tr>\n",
       "    <tr>\n",
       "      <th>3</th>\n",
       "      <td>Stacking</td>\n",
       "      <td>0.840778</td>\n",
       "      <td>0.838415</td>\n",
       "      <td>0.839108</td>\n",
       "      <td>0.840778</td>\n",
       "    </tr>\n",
       "  </tbody>\n",
       "</table>\n",
       "</div>"
      ],
      "text/plain": [
       "                      Model  Accuracy  F1-Score  Precison    Recall\n",
       "0       Logistic Regression  0.546778  0.523909  0.509398  0.546778\n",
       "1  Random Forest Classifier  0.868111  0.864949  0.864609  0.868111\n",
       "2      ADA Boost Classifier  0.624222  0.600027  0.628164  0.624222\n",
       "3                  Stacking  0.840778  0.838415  0.839108  0.840778"
      ]
     },
     "execution_count": 43,
     "metadata": {},
     "output_type": "execute_result"
    }
   ],
   "source": [
    "#tabulation\n",
    "comp=pd.DataFrame()\n",
    "comp['Model']=['Logistic Regression','Random Forest Classifier','ADA Boost Classifier','Stacking']\n",
    "comp['Accuracy']=[mean(m1s1),mean(m2s1),mean(m3s1),mean(m4s1)]\n",
    "comp['F1-Score']=[mean(m1s2),mean(m2s2),mean(m3s2),mean(m4s2)]\n",
    "comp['Precison']=[mean(m1s3),mean(m2s3),mean(m3s3),mean(m4s3)]\n",
    "comp['Recall']=[mean(m1s4),mean(m2s4),mean(m3s4),mean(m4s4)]\n",
    "comp"
   ]
  },
  {
   "cell_type": "code",
   "execution_count": 44,
   "id": "36ef60bf",
   "metadata": {},
   "outputs": [
    {
     "data": {
      "image/png": "[encoded data removed]",
      "text/plain": [
       "<Figure size 720x360 with 1 Axes>"
      ]
     },
     "metadata": {
      "needs_background": "light"
     },
     "output_type": "display_data"
    }
   ],
   "source": [
    "#visualizatiom\n",
    "names=['Logistic Regression','Random Forest Classifier','ADA Boost Classifier','Stacking']\n",
    "fig, ax = plt.subplots(figsize = (10, 5))\n",
    "plt.title('Accuracy Score of Models')\n",
    "plt.boxplot([m1s1,m2s1,m3s1,m4s1], labels=names, showmeans=True);"
   ]
  },
  {
   "cell_type": "code",
   "execution_count": 45,
   "id": "dc31b15a",
   "metadata": {},
   "outputs": [
    {
     "data": {
      "image/png": "[encoded data removed]",
      "text/plain": [
       "<Figure size 720x360 with 1 Axes>"
      ]
     },
     "metadata": {
      "needs_background": "light"
     },
     "output_type": "display_data"
    }
   ],
   "source": [
    "fig, ax = plt.subplots(figsize = (10, 5))\n",
    "plt.title('F1-Score of Models')\n",
    "plt.boxplot([m1s2,m2s2,m3s2,m4s2], labels=names, showmeans=True);"
   ]
  },
  {
   "cell_type": "code",
   "execution_count": 46,
   "id": "228c65fd",
   "metadata": {},
   "outputs": [
    {
     "data": {
      "image/png": "[encoded data removed]",
      "text/plain": [
       "<Figure size 720x360 with 1 Axes>"
      ]
     },
     "metadata": {
      "needs_background": "light"
     },
     "output_type": "display_data"
    }
   ],
   "source": [
    "fig, ax = plt.subplots(figsize = (10, 5))\n",
    "plt.title('Precison Score of Models')\n",
    "plt.boxplot([m1s3,m2s3,m3s3,m4s3], labels=names, showmeans=True);"
   ]
  },
  {
   "cell_type": "code",
   "execution_count": 47,
   "id": "fcfc498e",
   "metadata": {},
   "outputs": [
    {
     "data": {
      "image/png": "[encoded data removed]",
      "text/plain": [
       "<Figure size 720x360 with 1 Axes>"
      ]
     },
     "metadata": {
      "needs_background": "light"
     },
     "output_type": "display_data"
    }
   ],
   "source": [
    "fig, ax = plt.subplots(figsize = (10, 5))\n",
    "plt.title('Recall Score of Models')\n",
    "plt.boxplot([m1s4,m2s4,m3s4,m4s4], labels=names, showmeans=True);"
   ]
  },
  {
   "cell_type": "markdown",
   "id": "867d21b2",
   "metadata": {},
   "source": [
    "Conclusion: From the visualizations we can see that Random Forest classifier perfomed well"
   ]
  },
  {
   "cell_type": "code",
   "execution_count": 48,
   "id": "331361fd",
   "metadata": {},
   "outputs": [
    {
     "data": {
      "image/png": "[encoded data removed]",
      "text/plain": [
       "<Figure size 432x288 with 1 Axes>"
      ]
     },
     "metadata": {
      "needs_background": "light"
     },
     "output_type": "display_data"
    }
   ],
   "source": [
    "x=list(np.arange(0,len(y_test)))\n",
    "plt.scatter(x,y_test)\n",
    "plt.scatter(x,y2_pred);"
   ]
  },
  {
   "cell_type": "markdown",
   "id": "e52e1cb1",
   "metadata": {},
   "source": [
    "#### Interpretation:From the above analysis  we can conclude that most of actual and predicted values overlap therefore it's performance is good compare to other models"
   ]
  },
  {
   "cell_type": "code",
   "execution_count": null,
   "id": "772ada49",
   "metadata": {},
   "outputs": [],
   "source": []
  },
  {
   "cell_type": "code",
   "execution_count": null,
   "id": "e3cfc8f3",
   "metadata": {},
   "outputs": [],
   "source": []
  }
 ],
 "metadata": {
  "kernelspec": {
   "display_name": "Python 3 (ipykernel)",
   "language": "python",
   "name": "python3"
  },
  "language_info": {
   "codemirror_mode": {
    "name": "ipython",
    "version": 3
   },
   "file_extension": ".py",
   "mimetype": "text/x-python",
   "name": "python",
   "nbconvert_exporter": "python",
   "pygments_lexer": "ipython3",
   "version": "3.9.12"
  }
 },
 "nbformat": 4,
 "nbformat_minor": 5
}
